{
 "cells": [
  {
   "cell_type": "code",
   "id": "initial_id",
   "metadata": {
    "collapsed": true,
    "ExecuteTime": {
     "end_time": "2024-09-29T08:02:07.749180Z",
     "start_time": "2024-09-29T08:02:07.744967Z"
    }
   },
   "source": [
    "# Imports\n",
    "import pickle\n",
    "import torch\n",
    "import matplotlib.pyplot as plt\n",
    "import pandas as pd\n",
    "import torch.nn as nn\n",
    "import numpy as np\n",
    "\n",
    "from torch import tensor, optim\n",
    "from torch.utils.data import DataLoader, Dataset, random_split\n",
    "from transformers import BertTokenizer\n",
    "from sklearn.feature_extraction.text import CountVectorizer"
   ],
   "outputs": [],
   "execution_count": 447
  },
  {
   "metadata": {
    "ExecuteTime": {
     "end_time": "2024-09-29T10:00:53.408189Z",
     "start_time": "2024-09-29T10:00:53.403339Z"
    }
   },
   "cell_type": "code",
   "source": [
    "# Parameters and constants\n",
    "MAX_LEN = 10000\n",
    "learning_rate = 0.00001\n",
    "epochs = 15\n",
    "batch_size = 64\n",
    "hidden_size = 64\n",
    "train_factor = 0.6\n",
    "test_factor = 0.2\n",
    "valid_factor = 0.2\n",
    "\n",
    "device = \"cuda\" if torch.cuda.is_available() else \"cpu\"\n",
    "print(f\"Selected device: {device}\")"
   ],
   "id": "4716265bf2d5ca56",
   "outputs": [
    {
     "name": "stdout",
     "output_type": "stream",
     "text": [
      "Selected device: cuda\n"
     ]
    }
   ],
   "execution_count": 685
  },
  {
   "metadata": {
    "ExecuteTime": {
     "end_time": "2024-09-29T09:16:15.783193Z",
     "start_time": "2024-09-29T09:16:07.790710Z"
    }
   },
   "cell_type": "code",
   "source": [
    "# Uploading our data from csv\n",
    "df = pd.read_csv(\"./data/data.csv\")\n",
    "df[\"text\"] = df[\"text\"].fillna(\"\")\n",
    "df.head()"
   ],
   "id": "6c22c4086a8986f9",
   "outputs": [
    {
     "data": {
      "text/plain": [
       "   Unnamed: 0                                               text  label\n",
       "0           0  Buck up, your troubles caused by small dimensi...      1\n",
       "1           1  \\nUpgrade your sex and pleasures with these te...      1\n",
       "2           2  >+=+=+=+=+=+=+=+=+=+=+=+=+=+=+=+=+=+=+=+=+=+=+...      1\n",
       "3           3  Would anyone object to removing .so from this ...      0\n",
       "4           4  \\nWelcomeFastShippingCustomerSupport\\nhttp://7...      1"
      ],
      "text/html": [
       "<div>\n",
       "<style scoped>\n",
       "    .dataframe tbody tr th:only-of-type {\n",
       "        vertical-align: middle;\n",
       "    }\n",
       "\n",
       "    .dataframe tbody tr th {\n",
       "        vertical-align: top;\n",
       "    }\n",
       "\n",
       "    .dataframe thead th {\n",
       "        text-align: right;\n",
       "    }\n",
       "</style>\n",
       "<table border=\"1\" class=\"dataframe\">\n",
       "  <thead>\n",
       "    <tr style=\"text-align: right;\">\n",
       "      <th></th>\n",
       "      <th>Unnamed: 0</th>\n",
       "      <th>text</th>\n",
       "      <th>label</th>\n",
       "    </tr>\n",
       "  </thead>\n",
       "  <tbody>\n",
       "    <tr>\n",
       "      <th>0</th>\n",
       "      <td>0</td>\n",
       "      <td>Buck up, your troubles caused by small dimensi...</td>\n",
       "      <td>1</td>\n",
       "    </tr>\n",
       "    <tr>\n",
       "      <th>1</th>\n",
       "      <td>1</td>\n",
       "      <td>\\nUpgrade your sex and pleasures with these te...</td>\n",
       "      <td>1</td>\n",
       "    </tr>\n",
       "    <tr>\n",
       "      <th>2</th>\n",
       "      <td>2</td>\n",
       "      <td>&gt;+=+=+=+=+=+=+=+=+=+=+=+=+=+=+=+=+=+=+=+=+=+=+...</td>\n",
       "      <td>1</td>\n",
       "    </tr>\n",
       "    <tr>\n",
       "      <th>3</th>\n",
       "      <td>3</td>\n",
       "      <td>Would anyone object to removing .so from this ...</td>\n",
       "      <td>0</td>\n",
       "    </tr>\n",
       "    <tr>\n",
       "      <th>4</th>\n",
       "      <td>4</td>\n",
       "      <td>\\nWelcomeFastShippingCustomerSupport\\nhttp://7...</td>\n",
       "      <td>1</td>\n",
       "    </tr>\n",
       "  </tbody>\n",
       "</table>\n",
       "</div>"
      ]
     },
     "execution_count": 568,
     "metadata": {},
     "output_type": "execute_result"
    }
   ],
   "execution_count": 568
  },
  {
   "metadata": {
    "ExecuteTime": {
     "end_time": "2024-09-29T09:21:39.748386Z",
     "start_time": "2024-09-29T09:21:39.744438Z"
    }
   },
   "cell_type": "code",
   "source": [
    "# Function to assess accuracy of the model\n",
    "def accuracy(predictions: tensor, actuals: tensor) -> float:\n",
    "    _, preds =torch.max(predictions, 1)\n",
    "    preds\n",
    "    accuracy = torch.sum(preds == actuals.view(-1))/x_batch.shape[0]\n",
    "    return accuracy.item()"
   ],
   "id": "69681e21e1ec75c0",
   "outputs": [],
   "execution_count": 585
  },
  {
   "metadata": {
    "ExecuteTime": {
     "end_time": "2024-09-29T09:21:40.729762Z",
     "start_time": "2024-09-29T09:21:40.725060Z"
    }
   },
   "cell_type": "code",
   "source": [
    "# Dataset\n",
    "class EmailDataset(Dataset):\n",
    "    def __init__(self, email_df, vectorizer):\n",
    "        self.emails = email_df[\"text\"]\n",
    "        self.labels = tensor(email_df[\"label\"], dtype=torch.long)\n",
    "        self.vectorizer = vectorizer\n",
    "        \n",
    "        csr_matrix = self.vectorizer.transform(self.emails)\n",
    "        coo_matrix = csr_matrix.tocoo()\n",
    "        indices = tensor([coo_matrix.row, coo_matrix.col])\n",
    "        values = tensor(coo_matrix.data, dtype=torch.float32)\n",
    "        self.vectorized_emails = torch.sparse_coo_tensor(indices, values, torch.Size(coo_matrix.shape)).to_dense()\n",
    "        \n",
    "    def __getitem__(self, index):\n",
    "        email_vector = self.vectorized_emails[index]\n",
    "        label = self.labels[index]\n",
    "        return email_vector.to(device), label.to(device)\n",
    "    \n",
    "    def __len__(self):\n",
    "        return len(self.emails)"
   ],
   "id": "4e7f2cae013713ae",
   "outputs": [],
   "execution_count": 586
  },
  {
   "metadata": {
    "ExecuteTime": {
     "end_time": "2024-09-29T09:22:17.118558Z",
     "start_time": "2024-09-29T09:21:42.388381Z"
    }
   },
   "cell_type": "code",
   "source": [
    "# Vectorizer to convert texts of emails to vectors\n",
    "vectorizer = CountVectorizer(max_features=MAX_LEN)\n",
    "vectorizer.fit(df[\"text\"])"
   ],
   "id": "3a402fe0fe4f81c9",
   "outputs": [
    {
     "data": {
      "text/plain": [
       "CountVectorizer(max_features=10000)"
      ],
      "text/html": [
       "<style>#sk-container-id-4 {\n",
       "  /* Definition of color scheme common for light and dark mode */\n",
       "  --sklearn-color-text: black;\n",
       "  --sklearn-color-line: gray;\n",
       "  /* Definition of color scheme for unfitted estimators */\n",
       "  --sklearn-color-unfitted-level-0: #fff5e6;\n",
       "  --sklearn-color-unfitted-level-1: #f6e4d2;\n",
       "  --sklearn-color-unfitted-level-2: #ffe0b3;\n",
       "  --sklearn-color-unfitted-level-3: chocolate;\n",
       "  /* Definition of color scheme for fitted estimators */\n",
       "  --sklearn-color-fitted-level-0: #f0f8ff;\n",
       "  --sklearn-color-fitted-level-1: #d4ebff;\n",
       "  --sklearn-color-fitted-level-2: #b3dbfd;\n",
       "  --sklearn-color-fitted-level-3: cornflowerblue;\n",
       "\n",
       "  /* Specific color for light theme */\n",
       "  --sklearn-color-text-on-default-background: var(--sg-text-color, var(--theme-code-foreground, var(--jp-content-font-color1, black)));\n",
       "  --sklearn-color-background: var(--sg-background-color, var(--theme-background, var(--jp-layout-color0, white)));\n",
       "  --sklearn-color-border-box: var(--sg-text-color, var(--theme-code-foreground, var(--jp-content-font-color1, black)));\n",
       "  --sklearn-color-icon: #696969;\n",
       "\n",
       "  @media (prefers-color-scheme: dark) {\n",
       "    /* Redefinition of color scheme for dark theme */\n",
       "    --sklearn-color-text-on-default-background: var(--sg-text-color, var(--theme-code-foreground, var(--jp-content-font-color1, white)));\n",
       "    --sklearn-color-background: var(--sg-background-color, var(--theme-background, var(--jp-layout-color0, #111)));\n",
       "    --sklearn-color-border-box: var(--sg-text-color, var(--theme-code-foreground, var(--jp-content-font-color1, white)));\n",
       "    --sklearn-color-icon: #878787;\n",
       "  }\n",
       "}\n",
       "\n",
       "#sk-container-id-4 {\n",
       "  color: var(--sklearn-color-text);\n",
       "}\n",
       "\n",
       "#sk-container-id-4 pre {\n",
       "  padding: 0;\n",
       "}\n",
       "\n",
       "#sk-container-id-4 input.sk-hidden--visually {\n",
       "  border: 0;\n",
       "  clip: rect(1px 1px 1px 1px);\n",
       "  clip: rect(1px, 1px, 1px, 1px);\n",
       "  height: 1px;\n",
       "  margin: -1px;\n",
       "  overflow: hidden;\n",
       "  padding: 0;\n",
       "  position: absolute;\n",
       "  width: 1px;\n",
       "}\n",
       "\n",
       "#sk-container-id-4 div.sk-dashed-wrapped {\n",
       "  border: 1px dashed var(--sklearn-color-line);\n",
       "  margin: 0 0.4em 0.5em 0.4em;\n",
       "  box-sizing: border-box;\n",
       "  padding-bottom: 0.4em;\n",
       "  background-color: var(--sklearn-color-background);\n",
       "}\n",
       "\n",
       "#sk-container-id-4 div.sk-container {\n",
       "  /* jupyter's `normalize.less` sets `[hidden] { display: none; }`\n",
       "     but bootstrap.min.css set `[hidden] { display: none !important; }`\n",
       "     so we also need the `!important` here to be able to override the\n",
       "     default hidden behavior on the sphinx rendered scikit-learn.org.\n",
       "     See: https://github.com/scikit-learn/scikit-learn/issues/21755 */\n",
       "  display: inline-block !important;\n",
       "  position: relative;\n",
       "}\n",
       "\n",
       "#sk-container-id-4 div.sk-text-repr-fallback {\n",
       "  display: none;\n",
       "}\n",
       "\n",
       "div.sk-parallel-item,\n",
       "div.sk-serial,\n",
       "div.sk-item {\n",
       "  /* draw centered vertical line to link estimators */\n",
       "  background-image: linear-gradient(var(--sklearn-color-text-on-default-background), var(--sklearn-color-text-on-default-background));\n",
       "  background-size: 2px 100%;\n",
       "  background-repeat: no-repeat;\n",
       "  background-position: center center;\n",
       "}\n",
       "\n",
       "/* Parallel-specific style estimator block */\n",
       "\n",
       "#sk-container-id-4 div.sk-parallel-item::after {\n",
       "  content: \"\";\n",
       "  width: 100%;\n",
       "  border-bottom: 2px solid var(--sklearn-color-text-on-default-background);\n",
       "  flex-grow: 1;\n",
       "}\n",
       "\n",
       "#sk-container-id-4 div.sk-parallel {\n",
       "  display: flex;\n",
       "  align-items: stretch;\n",
       "  justify-content: center;\n",
       "  background-color: var(--sklearn-color-background);\n",
       "  position: relative;\n",
       "}\n",
       "\n",
       "#sk-container-id-4 div.sk-parallel-item {\n",
       "  display: flex;\n",
       "  flex-direction: column;\n",
       "}\n",
       "\n",
       "#sk-container-id-4 div.sk-parallel-item:first-child::after {\n",
       "  align-self: flex-end;\n",
       "  width: 50%;\n",
       "}\n",
       "\n",
       "#sk-container-id-4 div.sk-parallel-item:last-child::after {\n",
       "  align-self: flex-start;\n",
       "  width: 50%;\n",
       "}\n",
       "\n",
       "#sk-container-id-4 div.sk-parallel-item:only-child::after {\n",
       "  width: 0;\n",
       "}\n",
       "\n",
       "/* Serial-specific style estimator block */\n",
       "\n",
       "#sk-container-id-4 div.sk-serial {\n",
       "  display: flex;\n",
       "  flex-direction: column;\n",
       "  align-items: center;\n",
       "  background-color: var(--sklearn-color-background);\n",
       "  padding-right: 1em;\n",
       "  padding-left: 1em;\n",
       "}\n",
       "\n",
       "\n",
       "/* Toggleable style: style used for estimator/Pipeline/ColumnTransformer box that is\n",
       "clickable and can be expanded/collapsed.\n",
       "- Pipeline and ColumnTransformer use this feature and define the default style\n",
       "- Estimators will overwrite some part of the style using the `sk-estimator` class\n",
       "*/\n",
       "\n",
       "/* Pipeline and ColumnTransformer style (default) */\n",
       "\n",
       "#sk-container-id-4 div.sk-toggleable {\n",
       "  /* Default theme specific background. It is overwritten whether we have a\n",
       "  specific estimator or a Pipeline/ColumnTransformer */\n",
       "  background-color: var(--sklearn-color-background);\n",
       "}\n",
       "\n",
       "/* Toggleable label */\n",
       "#sk-container-id-4 label.sk-toggleable__label {\n",
       "  cursor: pointer;\n",
       "  display: block;\n",
       "  width: 100%;\n",
       "  margin-bottom: 0;\n",
       "  padding: 0.5em;\n",
       "  box-sizing: border-box;\n",
       "  text-align: center;\n",
       "}\n",
       "\n",
       "#sk-container-id-4 label.sk-toggleable__label-arrow:before {\n",
       "  /* Arrow on the left of the label */\n",
       "  content: \"▸\";\n",
       "  float: left;\n",
       "  margin-right: 0.25em;\n",
       "  color: var(--sklearn-color-icon);\n",
       "}\n",
       "\n",
       "#sk-container-id-4 label.sk-toggleable__label-arrow:hover:before {\n",
       "  color: var(--sklearn-color-text);\n",
       "}\n",
       "\n",
       "/* Toggleable content - dropdown */\n",
       "\n",
       "#sk-container-id-4 div.sk-toggleable__content {\n",
       "  max-height: 0;\n",
       "  max-width: 0;\n",
       "  overflow: hidden;\n",
       "  text-align: left;\n",
       "  /* unfitted */\n",
       "  background-color: var(--sklearn-color-unfitted-level-0);\n",
       "}\n",
       "\n",
       "#sk-container-id-4 div.sk-toggleable__content.fitted {\n",
       "  /* fitted */\n",
       "  background-color: var(--sklearn-color-fitted-level-0);\n",
       "}\n",
       "\n",
       "#sk-container-id-4 div.sk-toggleable__content pre {\n",
       "  margin: 0.2em;\n",
       "  border-radius: 0.25em;\n",
       "  color: var(--sklearn-color-text);\n",
       "  /* unfitted */\n",
       "  background-color: var(--sklearn-color-unfitted-level-0);\n",
       "}\n",
       "\n",
       "#sk-container-id-4 div.sk-toggleable__content.fitted pre {\n",
       "  /* unfitted */\n",
       "  background-color: var(--sklearn-color-fitted-level-0);\n",
       "}\n",
       "\n",
       "#sk-container-id-4 input.sk-toggleable__control:checked~div.sk-toggleable__content {\n",
       "  /* Expand drop-down */\n",
       "  max-height: 200px;\n",
       "  max-width: 100%;\n",
       "  overflow: auto;\n",
       "}\n",
       "\n",
       "#sk-container-id-4 input.sk-toggleable__control:checked~label.sk-toggleable__label-arrow:before {\n",
       "  content: \"▾\";\n",
       "}\n",
       "\n",
       "/* Pipeline/ColumnTransformer-specific style */\n",
       "\n",
       "#sk-container-id-4 div.sk-label input.sk-toggleable__control:checked~label.sk-toggleable__label {\n",
       "  color: var(--sklearn-color-text);\n",
       "  background-color: var(--sklearn-color-unfitted-level-2);\n",
       "}\n",
       "\n",
       "#sk-container-id-4 div.sk-label.fitted input.sk-toggleable__control:checked~label.sk-toggleable__label {\n",
       "  background-color: var(--sklearn-color-fitted-level-2);\n",
       "}\n",
       "\n",
       "/* Estimator-specific style */\n",
       "\n",
       "/* Colorize estimator box */\n",
       "#sk-container-id-4 div.sk-estimator input.sk-toggleable__control:checked~label.sk-toggleable__label {\n",
       "  /* unfitted */\n",
       "  background-color: var(--sklearn-color-unfitted-level-2);\n",
       "}\n",
       "\n",
       "#sk-container-id-4 div.sk-estimator.fitted input.sk-toggleable__control:checked~label.sk-toggleable__label {\n",
       "  /* fitted */\n",
       "  background-color: var(--sklearn-color-fitted-level-2);\n",
       "}\n",
       "\n",
       "#sk-container-id-4 div.sk-label label.sk-toggleable__label,\n",
       "#sk-container-id-4 div.sk-label label {\n",
       "  /* The background is the default theme color */\n",
       "  color: var(--sklearn-color-text-on-default-background);\n",
       "}\n",
       "\n",
       "/* On hover, darken the color of the background */\n",
       "#sk-container-id-4 div.sk-label:hover label.sk-toggleable__label {\n",
       "  color: var(--sklearn-color-text);\n",
       "  background-color: var(--sklearn-color-unfitted-level-2);\n",
       "}\n",
       "\n",
       "/* Label box, darken color on hover, fitted */\n",
       "#sk-container-id-4 div.sk-label.fitted:hover label.sk-toggleable__label.fitted {\n",
       "  color: var(--sklearn-color-text);\n",
       "  background-color: var(--sklearn-color-fitted-level-2);\n",
       "}\n",
       "\n",
       "/* Estimator label */\n",
       "\n",
       "#sk-container-id-4 div.sk-label label {\n",
       "  font-family: monospace;\n",
       "  font-weight: bold;\n",
       "  display: inline-block;\n",
       "  line-height: 1.2em;\n",
       "}\n",
       "\n",
       "#sk-container-id-4 div.sk-label-container {\n",
       "  text-align: center;\n",
       "}\n",
       "\n",
       "/* Estimator-specific */\n",
       "#sk-container-id-4 div.sk-estimator {\n",
       "  font-family: monospace;\n",
       "  border: 1px dotted var(--sklearn-color-border-box);\n",
       "  border-radius: 0.25em;\n",
       "  box-sizing: border-box;\n",
       "  margin-bottom: 0.5em;\n",
       "  /* unfitted */\n",
       "  background-color: var(--sklearn-color-unfitted-level-0);\n",
       "}\n",
       "\n",
       "#sk-container-id-4 div.sk-estimator.fitted {\n",
       "  /* fitted */\n",
       "  background-color: var(--sklearn-color-fitted-level-0);\n",
       "}\n",
       "\n",
       "/* on hover */\n",
       "#sk-container-id-4 div.sk-estimator:hover {\n",
       "  /* unfitted */\n",
       "  background-color: var(--sklearn-color-unfitted-level-2);\n",
       "}\n",
       "\n",
       "#sk-container-id-4 div.sk-estimator.fitted:hover {\n",
       "  /* fitted */\n",
       "  background-color: var(--sklearn-color-fitted-level-2);\n",
       "}\n",
       "\n",
       "/* Specification for estimator info (e.g. \"i\" and \"?\") */\n",
       "\n",
       "/* Common style for \"i\" and \"?\" */\n",
       "\n",
       ".sk-estimator-doc-link,\n",
       "a:link.sk-estimator-doc-link,\n",
       "a:visited.sk-estimator-doc-link {\n",
       "  float: right;\n",
       "  font-size: smaller;\n",
       "  line-height: 1em;\n",
       "  font-family: monospace;\n",
       "  background-color: var(--sklearn-color-background);\n",
       "  border-radius: 1em;\n",
       "  height: 1em;\n",
       "  width: 1em;\n",
       "  text-decoration: none !important;\n",
       "  margin-left: 1ex;\n",
       "  /* unfitted */\n",
       "  border: var(--sklearn-color-unfitted-level-1) 1pt solid;\n",
       "  color: var(--sklearn-color-unfitted-level-1);\n",
       "}\n",
       "\n",
       ".sk-estimator-doc-link.fitted,\n",
       "a:link.sk-estimator-doc-link.fitted,\n",
       "a:visited.sk-estimator-doc-link.fitted {\n",
       "  /* fitted */\n",
       "  border: var(--sklearn-color-fitted-level-1) 1pt solid;\n",
       "  color: var(--sklearn-color-fitted-level-1);\n",
       "}\n",
       "\n",
       "/* On hover */\n",
       "div.sk-estimator:hover .sk-estimator-doc-link:hover,\n",
       ".sk-estimator-doc-link:hover,\n",
       "div.sk-label-container:hover .sk-estimator-doc-link:hover,\n",
       ".sk-estimator-doc-link:hover {\n",
       "  /* unfitted */\n",
       "  background-color: var(--sklearn-color-unfitted-level-3);\n",
       "  color: var(--sklearn-color-background);\n",
       "  text-decoration: none;\n",
       "}\n",
       "\n",
       "div.sk-estimator.fitted:hover .sk-estimator-doc-link.fitted:hover,\n",
       ".sk-estimator-doc-link.fitted:hover,\n",
       "div.sk-label-container:hover .sk-estimator-doc-link.fitted:hover,\n",
       ".sk-estimator-doc-link.fitted:hover {\n",
       "  /* fitted */\n",
       "  background-color: var(--sklearn-color-fitted-level-3);\n",
       "  color: var(--sklearn-color-background);\n",
       "  text-decoration: none;\n",
       "}\n",
       "\n",
       "/* Span, style for the box shown on hovering the info icon */\n",
       ".sk-estimator-doc-link span {\n",
       "  display: none;\n",
       "  z-index: 9999;\n",
       "  position: relative;\n",
       "  font-weight: normal;\n",
       "  right: .2ex;\n",
       "  padding: .5ex;\n",
       "  margin: .5ex;\n",
       "  width: min-content;\n",
       "  min-width: 20ex;\n",
       "  max-width: 50ex;\n",
       "  color: var(--sklearn-color-text);\n",
       "  box-shadow: 2pt 2pt 4pt #999;\n",
       "  /* unfitted */\n",
       "  background: var(--sklearn-color-unfitted-level-0);\n",
       "  border: .5pt solid var(--sklearn-color-unfitted-level-3);\n",
       "}\n",
       "\n",
       ".sk-estimator-doc-link.fitted span {\n",
       "  /* fitted */\n",
       "  background: var(--sklearn-color-fitted-level-0);\n",
       "  border: var(--sklearn-color-fitted-level-3);\n",
       "}\n",
       "\n",
       ".sk-estimator-doc-link:hover span {\n",
       "  display: block;\n",
       "}\n",
       "\n",
       "/* \"?\"-specific style due to the `<a>` HTML tag */\n",
       "\n",
       "#sk-container-id-4 a.estimator_doc_link {\n",
       "  float: right;\n",
       "  font-size: 1rem;\n",
       "  line-height: 1em;\n",
       "  font-family: monospace;\n",
       "  background-color: var(--sklearn-color-background);\n",
       "  border-radius: 1rem;\n",
       "  height: 1rem;\n",
       "  width: 1rem;\n",
       "  text-decoration: none;\n",
       "  /* unfitted */\n",
       "  color: var(--sklearn-color-unfitted-level-1);\n",
       "  border: var(--sklearn-color-unfitted-level-1) 1pt solid;\n",
       "}\n",
       "\n",
       "#sk-container-id-4 a.estimator_doc_link.fitted {\n",
       "  /* fitted */\n",
       "  border: var(--sklearn-color-fitted-level-1) 1pt solid;\n",
       "  color: var(--sklearn-color-fitted-level-1);\n",
       "}\n",
       "\n",
       "/* On hover */\n",
       "#sk-container-id-4 a.estimator_doc_link:hover {\n",
       "  /* unfitted */\n",
       "  background-color: var(--sklearn-color-unfitted-level-3);\n",
       "  color: var(--sklearn-color-background);\n",
       "  text-decoration: none;\n",
       "}\n",
       "\n",
       "#sk-container-id-4 a.estimator_doc_link.fitted:hover {\n",
       "  /* fitted */\n",
       "  background-color: var(--sklearn-color-fitted-level-3);\n",
       "}\n",
       "</style><div id=\"sk-container-id-4\" class=\"sk-top-container\"><div class=\"sk-text-repr-fallback\"><pre>CountVectorizer(max_features=10000)</pre><b>In a Jupyter environment, please rerun this cell to show the HTML representation or trust the notebook. <br />On GitHub, the HTML representation is unable to render, please try loading this page with nbviewer.org.</b></div><div class=\"sk-container\" hidden><div class=\"sk-item\"><div class=\"sk-estimator fitted sk-toggleable\"><input class=\"sk-toggleable__control sk-hidden--visually\" id=\"sk-estimator-id-4\" type=\"checkbox\" checked><label for=\"sk-estimator-id-4\" class=\"sk-toggleable__label fitted sk-toggleable__label-arrow fitted\">&nbsp;&nbsp;CountVectorizer<a class=\"sk-estimator-doc-link fitted\" rel=\"noreferrer\" target=\"_blank\" href=\"https://scikit-learn.org/1.5/modules/generated/sklearn.feature_extraction.text.CountVectorizer.html\">?<span>Documentation for CountVectorizer</span></a><span class=\"sk-estimator-doc-link fitted\">i<span>Fitted</span></span></label><div class=\"sk-toggleable__content fitted\"><pre>CountVectorizer(max_features=10000)</pre></div> </div></div></div></div>"
      ]
     },
     "execution_count": 587,
     "metadata": {},
     "output_type": "execute_result"
    }
   ],
   "execution_count": 587
  },
  {
   "metadata": {
    "ExecuteTime": {
     "end_time": "2024-09-29T09:22:17.158583Z",
     "start_time": "2024-09-29T09:22:17.126549Z"
    }
   },
   "cell_type": "code",
   "source": "vectorizer.vocabulary_[\"cum\"]",
   "id": "2ed4a5bcfb75ff3c",
   "outputs": [
    {
     "data": {
      "text/plain": [
       "np.int64(2341)"
      ]
     },
     "execution_count": 588,
     "metadata": {},
     "output_type": "execute_result"
    }
   ],
   "execution_count": 588
  },
  {
   "metadata": {
    "ExecuteTime": {
     "end_time": "2024-09-29T09:23:41.045539Z",
     "start_time": "2024-09-29T09:22:17.163574Z"
    }
   },
   "cell_type": "code",
   "source": "ds = EmailDataset(df, vectorizer)",
   "id": "2a9f45a2b4706229",
   "outputs": [],
   "execution_count": 589
  },
  {
   "metadata": {
    "ExecuteTime": {
     "end_time": "2024-09-29T09:23:46.981894Z",
     "start_time": "2024-09-29T09:23:41.191288Z"
    }
   },
   "cell_type": "code",
   "source": "train_ds, valid_ds, test_ds = random_split(ds, [train_factor, valid_factor, test_factor])",
   "id": "dc1c960d5f6a586",
   "outputs": [],
   "execution_count": 590
  },
  {
   "metadata": {
    "ExecuteTime": {
     "end_time": "2024-09-29T09:53:17.322957Z",
     "start_time": "2024-09-29T09:53:17.319131Z"
    }
   },
   "cell_type": "code",
   "source": [
    "# Dataloaders\n",
    "train_dl = DataLoader(train_ds, batch_size=batch_size, shuffle=True)\n",
    "valid_dl = DataLoader(valid_ds, batch_size=batch_size)\n",
    "test_dl = DataLoader(test_ds, batch_size=batch_size, shuffle=True)"
   ],
   "id": "5effb713c3e89d3a",
   "outputs": [],
   "execution_count": 669
  },
  {
   "metadata": {
    "ExecuteTime": {
     "end_time": "2024-09-29T10:00:59.024117Z",
     "start_time": "2024-09-29T10:00:59.004766Z"
    }
   },
   "cell_type": "code",
   "source": [
    "# Model\n",
    "class PhishingDetectorModel(nn.Module):\n",
    "    def __init__(self, input_size: int, hidden_size: int, output_size: int):\n",
    "        super().__init__()\n",
    "        self.input_size = input_size\n",
    "        self.hidden_size = hidden_size\n",
    "        self.output_size = output_size\n",
    "        self.layers = nn.ModuleList([\n",
    "            nn.Linear(input_size, hidden_size),\n",
    "            nn.ReLU(),\n",
    "            nn.Dropout(0.3),\n",
    "            nn.Linear(hidden_size, 10),\n",
    "            nn.ReLU(),\n",
    "            nn.Dropout(0.3),\n",
    "            nn.Linear(10, output_size),\n",
    "        ])\n",
    "        \n",
    "    def forward(self, x):\n",
    "        for layer in self.layers:\n",
    "            x = layer(x)\n",
    "        return x"
   ],
   "id": "534e053ca3e64ee8",
   "outputs": [],
   "execution_count": 686
  },
  {
   "metadata": {
    "ExecuteTime": {
     "end_time": "2024-09-29T10:01:00.681226Z",
     "start_time": "2024-09-29T10:01:00.669777Z"
    }
   },
   "cell_type": "code",
   "source": [
    "model = PhishingDetectorModel(\n",
    "    input_size=MAX_LEN,\n",
    "    hidden_size=hidden_size, \n",
    "    output_size=2\n",
    ").to(device)\n",
    "optimizer = optim.Adam(model.parameters(), lr=learning_rate)\n",
    "loss_function = nn.CrossEntropyLoss()"
   ],
   "id": "6817241f1c7c571",
   "outputs": [],
   "execution_count": 687
  },
  {
   "metadata": {
    "ExecuteTime": {
     "end_time": "2024-09-29T10:05:35.234383Z",
     "start_time": "2024-09-29T10:01:03.697268Z"
    }
   },
   "cell_type": "code",
   "source": [
    "# Training loop\n",
    "losses = []\n",
    "accuracies = []\n",
    "\n",
    "for epoch in range(epochs):\n",
    "    model.train()\n",
    "    for x_batch, y_batch in train_dl:\n",
    "        optimizer.zero_grad()\n",
    "        predictions = model(x_batch)\n",
    "        loss = loss_function(predictions, y_batch.view(-1))\n",
    "        \n",
    "        loss.backward()\n",
    "        optimizer.step()\n",
    "        \n",
    "    model.eval()\n",
    "    total_loss, total_acc, count = 0., 0., 0.\n",
    "    for x_batch, y_batch in valid_dl:\n",
    "        predictions = model(x_batch)\n",
    "        loss = loss_function(predictions, y_batch.view(-1))\n",
    "        count += len(x_batch)\n",
    "        total_loss += loss.item()\n",
    "        acc = accuracy(predictions, y_batch.view(-1))\n",
    "        total_acc += acc * len(x_batch)\n",
    "    losses.append(total_loss / count)\n",
    "    accuracies.append(total_acc / count)\n",
    "    \n",
    "    print(f\"Epoch: {epoch}, Loss: {total_loss / count}, Accuracy: {total_acc / count}\")\n",
    "        "
   ],
   "id": "5da03359ffe66a78",
   "outputs": [
    {
     "name": "stdout",
     "output_type": "stream",
     "text": [
      "Epoch: 0, Loss: 0.008161994823499328, Accuracy: 0.6609569215498485\n",
      "Epoch: 1, Loss: 0.006274160328176061, Accuracy: 0.8405584879898241\n",
      "Epoch: 2, Loss: 0.005161087691692564, Accuracy: 0.9106078665584919\n",
      "Epoch: 3, Loss: 0.004427517197230758, Accuracy: 0.9342073898004467\n",
      "Epoch: 4, Loss: 0.0038689879355795153, Accuracy: 0.943095521877759\n",
      "Epoch: 5, Loss: 0.003479933374108315, Accuracy: 0.9436063340691434\n",
      "Epoch: 6, Loss: 0.0031547313765713856, Accuracy: 0.9439809296761585\n",
      "Epoch: 7, Loss: 0.0029051665566187995, Accuracy: 0.9442874169909892\n",
      "Epoch: 8, Loss: 0.002719304217008194, Accuracy: 0.945581474542496\n",
      "Epoch: 9, Loss: 0.002570394277014441, Accuracy: 0.946262557490729\n",
      "Epoch: 10, Loss: 0.0024472452079784966, Accuracy: 0.9466030989516518\n",
      "Epoch: 11, Loss: 0.0023397024703780897, Accuracy: 0.9481014813797124\n",
      "Epoch: 12, Loss: 0.002244532456922507, Accuracy: 0.949361484785127\n",
      "Epoch: 13, Loss: 0.0021714651723411813, Accuracy: 0.9513366252584797\n",
      "Epoch: 14, Loss: 0.002102605412923029, Accuracy: 0.9524263579334329\n"
     ]
    }
   ],
   "execution_count": 688
  },
  {
   "metadata": {
    "ExecuteTime": {
     "end_time": "2024-09-29T10:05:35.418224Z",
     "start_time": "2024-09-29T10:05:35.235392Z"
    }
   },
   "cell_type": "code",
   "source": "plt.plot(accuracies)",
   "id": "56649b5ed502f53f",
   "outputs": [
    {
     "data": {
      "text/plain": [
       "[<matplotlib.lines.Line2D at 0x1b4ed321820>]"
      ]
     },
     "execution_count": 689,
     "metadata": {},
     "output_type": "execute_result"
    },
    {
     "data": {
      "text/plain": [
       "<Figure size 640x480 with 1 Axes>"
      ],
      "image/png": "[encoded data removed]"
     },
     "metadata": {},
     "output_type": "display_data"
    }
   ],
   "execution_count": 689
  },
  {
   "metadata": {
    "ExecuteTime": {
     "end_time": "2024-09-29T10:05:35.617129Z",
     "start_time": "2024-09-29T10:05:35.419224Z"
    }
   },
   "cell_type": "code",
   "source": "plt.plot(losses)    ",
   "id": "8edde8b105b3252d",
   "outputs": [
    {
     "data": {
      "text/plain": [
       "[<matplotlib.lines.Line2D at 0x1b4ed3da2a0>]"
      ]
     },
     "execution_count": 690,
     "metadata": {},
     "output_type": "execute_result"
    },
    {
     "data": {
      "text/plain": [
       "<Figure size 640x480 with 1 Axes>"
      ],
      "image/png": "[encoded data removed]"
     },
     "metadata": {},
     "output_type": "display_data"
    }
   ],
   "execution_count": 690
  },
  {
   "metadata": {
    "ExecuteTime": {
     "end_time": "2024-09-29T08:23:07.397210Z",
     "start_time": "2024-09-29T08:23:07.295660Z"
    }
   },
   "cell_type": "code",
   "source": [
    "x_batch, y_batch = next(iter(test_dl))\n",
    "x_batch[1], y_batch[1]"
   ],
   "id": "f71313a21650f56f",
   "outputs": [
    {
     "data": {
      "text/plain": [
       "(tensor([0., 0., 0.,  ..., 0., 0., 0.], device='cuda:0'),\n",
       " tensor(1, device='cuda:0'))"
      ]
     },
     "execution_count": 472,
     "metadata": {},
     "output_type": "execute_result"
    }
   ],
   "execution_count": 472
  },
  {
   "metadata": {
    "ExecuteTime": {
     "end_time": "2024-09-29T08:24:11.928111Z",
     "start_time": "2024-09-29T08:24:11.922188Z"
    }
   },
   "cell_type": "code",
   "source": "x_batch.shape, y_batch.shape",
   "id": "28074466db7d1820",
   "outputs": [
    {
     "data": {
      "text/plain": [
       "(torch.Size([128, 10000]), torch.Size([128]))"
      ]
     },
     "execution_count": 479,
     "metadata": {},
     "output_type": "execute_result"
    }
   ],
   "execution_count": 479
  },
  {
   "metadata": {
    "ExecuteTime": {
     "end_time": "2024-09-29T08:26:47.442930Z",
     "start_time": "2024-09-29T08:26:47.434653Z"
    }
   },
   "cell_type": "code",
   "source": [
    "predictions = model(x_batch)\n",
    "probabilities = torch.sigmoid(predictions)\n",
    "probabilities = torch.softmax(predictions, dim=1)\n",
    "acc = accuracy(probabilities[:, 1], y_batch.view(-1))"
   ],
   "id": "c8af55d6cdc2078e",
   "outputs": [],
   "execution_count": 485
  },
  {
   "metadata": {
    "ExecuteTime": {
     "end_time": "2024-09-29T08:29:28.548487Z",
     "start_time": "2024-09-29T08:29:28.496418Z"
    }
   },
   "cell_type": "code",
   "source": [
    "_, preds =torch.max(predictions, 1)\n",
    "preds"
   ],
   "id": "9e8dda2d14f071cc",
   "outputs": [
    {
     "data": {
      "text/plain": [
       "tensor([1, 1, 1, 1, 0, 0, 0, 0, 1, 0, 1, 1, 0, 1, 1, 1, 0, 0, 1, 0, 1, 1, 1, 1,\n",
       "        0, 0, 1, 0, 1, 0, 1, 0, 1, 0, 0, 1, 0, 0, 1, 0, 1, 1, 0, 0, 0, 1, 0, 1,\n",
       "        1, 1, 0, 0, 1, 1, 0, 0, 1, 0, 0, 0, 0, 0, 0, 1, 1, 0, 0, 1, 0, 0, 0, 0,\n",
       "        0, 1, 0, 0, 1, 1, 0, 0, 1, 0, 0, 1, 1, 0, 0, 1, 0, 1, 0, 0, 0, 1, 0, 1,\n",
       "        0, 0, 1, 0, 1, 1, 1, 1, 0, 1, 0, 1, 0, 1, 1, 1, 0, 0, 0, 1, 1, 1, 1, 1,\n",
       "        1, 1, 0, 1, 1, 0, 1, 0], device='cuda:0')"
      ]
     },
     "execution_count": 491,
     "metadata": {},
     "output_type": "execute_result"
    }
   ],
   "execution_count": 491
  },
  {
   "metadata": {
    "ExecuteTime": {
     "end_time": "2024-09-29T08:30:44.730246Z",
     "start_time": "2024-09-29T08:30:44.719978Z"
    }
   },
   "cell_type": "code",
   "source": "torch.sum(preds == y_batch.view(-1))/x_batch.shape[0]",
   "id": "7c85eddbf976e3c2",
   "outputs": [
    {
     "data": {
      "text/plain": [
       "tensor(0.9531, device='cuda:0')"
      ]
     },
     "execution_count": 498,
     "metadata": {},
     "output_type": "execute_result"
    }
   ],
   "execution_count": 498
  },
  {
   "metadata": {
    "ExecuteTime": {
     "end_time": "2024-09-29T09:56:56.277579Z",
     "start_time": "2024-09-29T09:56:56.270784Z"
    }
   },
   "cell_type": "code",
   "source": "accuracy(predictions, y_batch)",
   "id": "dbe76b323645444b",
   "outputs": [
    {
     "data": {
      "text/plain": [
       "0.9056603908538818"
      ]
     },
     "execution_count": 676,
     "metadata": {},
     "output_type": "execute_result"
    }
   ],
   "execution_count": 676
  },
  {
   "metadata": {
    "ExecuteTime": {
     "end_time": "2024-09-29T10:06:25.574745Z",
     "start_time": "2024-09-29T10:06:25.568084Z"
    }
   },
   "cell_type": "code",
   "source": [
    "def predict_email(email, model, vectorizer, device, top_n=5):\n",
    "    model.eval()\n",
    "    \n",
    "    email_csrmatrix = vectorizer.transform([email])\n",
    "    email_coomatrix = email_csrmatrix.tocoo()\n",
    "    indices = tensor([email_coomatrix.row, email_coomatrix.col]).to(device)\n",
    "    values = tensor(email_coomatrix.data, dtype=torch.float32).to(device)\n",
    "    email_tensor = torch.sparse_coo_tensor(indices, values, torch.Size(email_coomatrix.shape)).to_dense().to(device)\n",
    "    \n",
    "    with torch.no_grad():\n",
    "        outputs = model(email_tensor)\n",
    "        _, prediction = torch.max(outputs, 1)\n",
    "        \n",
    "        first_layer_weights = model.layers[0].weight.data.cpu().numpy()\n",
    "        suspicious_weights = first_layer_weights[1]\n",
    "        \n",
    "        word_importance = email_tensor[0].cpu() * suspicious_weights\n",
    "        important_words_indices = np.argsort(word_importance)[-top_n:]\n",
    "        \n",
    "        important_words = [vectorizer.get_feature_names_out()[i] for i in important_words_indices]\n",
    "        important_scores = [word_importance[i] for i in important_words_indices]\n",
    "        \n",
    "        important_scores = tensor(important_scores).softmax(dim=0)\n",
    "        important_scores = [score * 100 for score in important_scores]\n",
    "    \n",
    "    return prediction.item(), torch.softmax(outputs, dim=1).cpu().numpy(), list(zip(important_words, important_scores))"
   ],
   "id": "652b14be9b9bbb77",
   "outputs": [],
   "execution_count": 692
  },
  {
   "metadata": {
    "ExecuteTime": {
     "end_time": "2024-09-29T10:06:37.011318Z",
     "start_time": "2024-09-29T10:06:36.938656Z"
    }
   },
   "cell_type": "code",
   "source": [
    "sus_mail = \"\"\"Dear [Your Name],\n",
    "\n",
    "We hope you're doing well. Your monthly bank statement for September 2024 is now available. You can view and download your statement by logging into your account.\n",
    "\n",
    "To access your statement:\n",
    "\n",
    "Go to our official website: www.yourbank.com.\n",
    "Log in with your credentials.\n",
    "Navigate to the \"Statements\" section under your account dashboard.\n",
    "If you have any questions or need assistance, please feel free to contact our customer support team.\n",
    "\n",
    "Thank you for banking with us!\n",
    "\n",
    "Best regards,\n",
    "Customer Service Team\n",
    "YourBank Inc.\n",
    "Contact Us: 1-800-123-4567\n",
    "www.yourbank.com\"\"\"\n",
    "\n",
    "ok_mail = \"\"\"Hey [Your Name],\n",
    "\n",
    "I hope you're doing well! It's been a while since we last caught up, and I was thinking it would be great to hang out sometime soon. How about grabbing coffee this weekend?\n",
    "\n",
    "Let me know if you're free, or if another time works better for you. I’d love to hear what you’ve been up to lately and share some updates on my end too!\n",
    "\n",
    "Looking forward to seeing you soon.\n",
    "\n",
    "Take care,\n",
    "[Friend's Name]\n",
    "\n",
    "P.S. If you're busy this weekend, no worries—we can plan for another time! :)\"\"\"\n",
    " \n",
    "sus, confidency, words = predict_email(sus_mail, model, vectorizer, device, top_n=10)\n",
    "\n",
    "print(f\"Sus: {sus}, Confidence: {confidency.max() * 100:.2f}, Words: {words}\")"
   ],
   "id": "ce36f4455ba6d4e2",
   "outputs": [
    {
     "name": "stdout",
     "output_type": "stream",
     "text": [
      "Sus: 1, Confidence: 81.55, Words: [('dear', tensor(9.7662)), ('you', tensor(9.8051)), ('com', tensor(9.8112)), ('contact', tensor(9.8331)), ('regards', tensor(9.8605)), ('for', tensor(9.8875)), ('best', tensor(9.9215)), ('to', tensor(10.0664)), ('our', tensor(10.1524)), ('your', tensor(10.8962))]\n"
     ]
    },
    {
     "name": "stderr",
     "output_type": "stream",
     "text": [
      "C:\\Users\\sqdar\\AppData\\Local\\Temp\\ipykernel_12488\\1932624220.py:17: DeprecationWarning: __array_wrap__ must accept context and return_scalar arguments (positionally) in the future. (Deprecated NumPy 2.0)\n",
      "  word_importance = email_tensor[0].cpu() * suspicious_weights\n"
     ]
    }
   ],
   "execution_count": 694
  },
  {
   "metadata": {
    "ExecuteTime": {
     "end_time": "2024-09-29T09:57:12.047337Z",
     "start_time": "2024-09-29T09:57:06.230075Z"
    }
   },
   "cell_type": "code",
   "source": [
    "losses, accuracies = [], []\n",
    "total_loss, total_acc, count = 0., 0., 0.\n",
    " \n",
    "for x_batch, y_batch in test_dl:\n",
    "    predictions = model(x_batch)\n",
    "    loss = loss_function(predictions, y_batch.view(-1))\n",
    "    count += len(x_batch)\n",
    "    total_loss += loss.item()\n",
    "    acc = accuracy(predictions, y_batch)\n",
    "    total_acc += acc * len(x_batch)\n",
    "losses.append(total_loss / count)\n",
    "accuracies.append(total_acc / count)\n",
    "\n",
    "print(f\"Loss: {total_loss / count}, Accuracy: {total_acc / count}\")"
   ],
   "id": "57feae9074aaa82f",
   "outputs": [
    {
     "name": "stdout",
     "output_type": "stream",
     "text": [
      "Loss: 0.002259331619720452, Accuracy: 0.947248331290015\n"
     ]
    }
   ],
   "execution_count": 677
  },
  {
   "metadata": {},
   "cell_type": "code",
   "outputs": [],
   "execution_count": null,
   "source": "",
   "id": "690637f0e8e54a22"
  }
 ],
 "metadata": {
  "kernelspec": {
   "display_name": "Python 3",
   "language": "python",
   "name": "python3"
  },
  "language_info": {
   "codemirror_mode": {
    "name": "ipython",
    "version": 2
   },
   "file_extension": ".py",
   "mimetype": "text/x-python",
   "name": "python",
   "nbconvert_exporter": "python",
   "pygments_lexer": "ipython2",
   "version": "2.7.6"
  }
 },
 "nbformat": 4,
 "nbformat_minor": 5
}
