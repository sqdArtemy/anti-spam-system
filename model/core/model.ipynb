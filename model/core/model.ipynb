{
 "cells": [
  {
   "metadata": {},
   "cell_type": "markdown",
   "source": [
    "# Model related code\n",
    "Made by: Tashyan Artyom, U2110268"
   ],
   "id": "6e4b4b8f741ed312"
  },
  {
   "metadata": {},
   "cell_type": "markdown",
   "source": "### Imports and parameters",
   "id": "c60c7d93a2c25f3"
  },
  {
   "cell_type": "code",
   "id": "initial_id",
   "metadata": {
    "collapsed": true,
    "ExecuteTime": {
     "end_time": "2024-11-24T04:30:10.861066Z",
     "start_time": "2024-11-24T04:29:54.147983Z"
    }
   },
   "source": [
    "# Imports\n",
    "import dill as pickle\n",
    "import time\n",
    "import re\n",
    "import torch\n",
    "import matplotlib.pyplot as plt\n",
    "import pandas as pd\n",
    "import torch.nn as nn\n",
    "import numpy as np\n",
    "import seaborn as sns\n",
    " \n",
    "import nltk\n",
    "\n",
    "from torch import tensor, optim\n",
    "from nltk.corpus import stopwords\n",
    "from nltk.stem import PorterStemmer\n",
    "from torch.utils.data import DataLoader, Dataset, random_split\n",
    "from sklearn.feature_extraction.text import CountVectorizer\n",
    "from sklearn.metrics import classification_report, confusion_matrix\n"
   ],
   "outputs": [],
   "execution_count": 1
  },
  {
   "metadata": {
    "ExecuteTime": {
     "end_time": "2024-11-24T04:30:11.422722Z",
     "start_time": "2024-11-24T04:30:10.863076Z"
    }
   },
   "cell_type": "code",
   "source": [
    "# Parameters and constants\n",
    "MAX_LEN = 10000\n",
    "learning_rate = 0.001\n",
    "decay_rate = 1e-3\n",
    "epochs = 15\n",
    "batch_size = 2048\n",
    "hidden_size = 1024\n",
    "hidden_size_2 = 12\n",
    "train_factor = 0.6\n",
    "test_factor = 0.2\n",
    "valid_factor = 0.2\n",
    "fresh_start = False\n",
    "train_model = True\n",
    "\n",
    "nltk.download('stopwords')\n",
    "\n",
    "device = \"cuda\" if torch.cuda.is_available() else \"cpu\"\n",
    "print(f\"Selected device: {device}\")\n"
   ],
   "id": "4716265bf2d5ca56",
   "outputs": [
    {
     "name": "stdout",
     "output_type": "stream",
     "text": [
      "Selected device: cuda\n"
     ]
    },
    {
     "name": "stderr",
     "output_type": "stream",
     "text": [
      "[nltk_data] Downloading package stopwords to\n",
      "[nltk_data]     C:\\Users\\sqdar\\AppData\\Roaming\\nltk_data...\n",
      "[nltk_data]   Package stopwords is already up-to-date!\n"
     ]
    }
   ],
   "execution_count": 2
  },
  {
   "metadata": {},
   "cell_type": "markdown",
   "source": "### Data preparation",
   "id": "633ea4ee126f0b5e"
  },
  {
   "metadata": {
    "ExecuteTime": {
     "end_time": "2024-11-24T04:30:14.600261Z",
     "start_time": "2024-11-24T04:30:11.423727Z"
    }
   },
   "cell_type": "code",
   "source": [
    "# Uploading our data from csv\n",
    "df = pd.read_csv(\"../data/data.csv\")\n",
    "df[\"text\"] = df[\"text\"].fillna(\"\")\n",
    "df.head()"
   ],
   "id": "6c22c4086a8986f9",
   "outputs": [
    {
     "data": {
      "text/plain": [
       "   Unnamed: 0                                               text  label  \\\n",
       "0           0  Buck up, your troubles caused by small dimensi...      1   \n",
       "1           1  \\nUpgrade your sex and pleasures with these te...      1   \n",
       "2           2  >+=+=+=+=+=+=+=+=+=+=+=+=+=+=+=+=+=+=+=+=+=+=+...      1   \n",
       "3           3  Would anyone object to removing .so from this ...      0   \n",
       "4           4  \\nWelcomeFastShippingCustomerSupport\\nhttp://7...      1   \n",
       "\n",
       "   url_count  \n",
       "0          1  \n",
       "1          1  \n",
       "2         24  \n",
       "3        467  \n",
       "4          1  "
      ],
      "text/html": [
       "<div>\n",
       "<style scoped>\n",
       "    .dataframe tbody tr th:only-of-type {\n",
       "        vertical-align: middle;\n",
       "    }\n",
       "\n",
       "    .dataframe tbody tr th {\n",
       "        vertical-align: top;\n",
       "    }\n",
       "\n",
       "    .dataframe thead th {\n",
       "        text-align: right;\n",
       "    }\n",
       "</style>\n",
       "<table border=\"1\" class=\"dataframe\">\n",
       "  <thead>\n",
       "    <tr style=\"text-align: right;\">\n",
       "      <th></th>\n",
       "      <th>Unnamed: 0</th>\n",
       "      <th>text</th>\n",
       "      <th>label</th>\n",
       "      <th>url_count</th>\n",
       "    </tr>\n",
       "  </thead>\n",
       "  <tbody>\n",
       "    <tr>\n",
       "      <th>0</th>\n",
       "      <td>0</td>\n",
       "      <td>Buck up, your troubles caused by small dimensi...</td>\n",
       "      <td>1</td>\n",
       "      <td>1</td>\n",
       "    </tr>\n",
       "    <tr>\n",
       "      <th>1</th>\n",
       "      <td>1</td>\n",
       "      <td>\\nUpgrade your sex and pleasures with these te...</td>\n",
       "      <td>1</td>\n",
       "      <td>1</td>\n",
       "    </tr>\n",
       "    <tr>\n",
       "      <th>2</th>\n",
       "      <td>2</td>\n",
       "      <td>&gt;+=+=+=+=+=+=+=+=+=+=+=+=+=+=+=+=+=+=+=+=+=+=+...</td>\n",
       "      <td>1</td>\n",
       "      <td>24</td>\n",
       "    </tr>\n",
       "    <tr>\n",
       "      <th>3</th>\n",
       "      <td>3</td>\n",
       "      <td>Would anyone object to removing .so from this ...</td>\n",
       "      <td>0</td>\n",
       "      <td>467</td>\n",
       "    </tr>\n",
       "    <tr>\n",
       "      <th>4</th>\n",
       "      <td>4</td>\n",
       "      <td>\\nWelcomeFastShippingCustomerSupport\\nhttp://7...</td>\n",
       "      <td>1</td>\n",
       "      <td>1</td>\n",
       "    </tr>\n",
       "  </tbody>\n",
       "</table>\n",
       "</div>"
      ]
     },
     "execution_count": 3,
     "metadata": {},
     "output_type": "execute_result"
    }
   ],
   "execution_count": 3
  },
  {
   "metadata": {
    "ExecuteTime": {
     "end_time": "2024-11-24T04:30:14.604393Z",
     "start_time": "2024-11-24T04:30:14.601276Z"
    }
   },
   "cell_type": "code",
   "source": [
    "def preprocess_text(text: str) -> str:\n",
    "    lower_text = text.lower()\n",
    "    text_without_links = re.sub(r'http\\S+|www\\S+|https\\S+', '', lower_text, flags=re.MULTILINE)\n",
    "    plain_text = re.sub(r'[^a-zA-Z\\s]', '', text_without_links)\n",
    "    return plain_text"
   ],
   "id": "adba2d5e9a5c2687",
   "outputs": [],
   "execution_count": 4
  },
  {
   "metadata": {
    "ExecuteTime": {
     "end_time": "2024-11-24T04:30:14.615758Z",
     "start_time": "2024-11-24T04:30:14.605401Z"
    }
   },
   "cell_type": "code",
   "source": [
    "def tokenizer(text) -> list[str]:\n",
    "    stemmer = PorterStemmer()\n",
    "    tokens = re.findall(r'\\b\\w+\\b', text)\n",
    "    \n",
    "    stop_words = set(stopwords.words(\"english\"))\n",
    "    tokens = [word for word in tokens if word not in stop_words]\n",
    "    \n",
    "    tokens = [stemmer.stem(word) for word in tokens]\n",
    "    return tokens"
   ],
   "id": "9806887e4d4e32d1",
   "outputs": [],
   "execution_count": 5
  },
  {
   "metadata": {
    "ExecuteTime": {
     "end_time": "2024-11-24T04:30:14.626859Z",
     "start_time": "2024-11-24T04:30:14.616794Z"
    }
   },
   "cell_type": "code",
   "source": [
    "# Dataset\n",
    "class EmailDataset(Dataset):\n",
    "    def __init__(self, email_df, vectorizer):\n",
    "        self.emails = email_df[\"text\"]\n",
    "        self.labels = tensor(email_df[\"label\"], dtype=torch.long)\n",
    "        self.vectorizer = vectorizer\n",
    "        \n",
    "        csr_matrix = self.vectorizer.transform(self.emails)\n",
    "        coo_matrix = csr_matrix.tocoo()\n",
    "        indices = tensor([coo_matrix.row, coo_matrix.col])\n",
    "        values = tensor(coo_matrix.data, dtype=torch.float32)\n",
    "        self.vectorized_emails = torch.sparse_coo_tensor(indices, values, torch.Size(coo_matrix.shape)).to_dense()\n",
    "        \n",
    "    def __getitem__(self, index):\n",
    "        email_vector = self.vectorized_emails[index]\n",
    "        label = self.labels[index]\n",
    "        return email_vector.to(device), label.to(device)\n",
    "    \n",
    "    def __len__(self):\n",
    "        return len(self.emails)"
   ],
   "id": "4e7f2cae013713ae",
   "outputs": [],
   "execution_count": 6
  },
  {
   "metadata": {
    "ExecuteTime": {
     "end_time": "2024-11-24T04:30:14.650796Z",
     "start_time": "2024-11-24T04:30:14.628865Z"
    }
   },
   "cell_type": "code",
   "source": [
    "# Vectorizer to convert texts of emails to vectors\n",
    "if fresh_start:\n",
    "    vectorizer = CountVectorizer(\n",
    "        max_features=MAX_LEN,\n",
    "        tokenizer=tokenizer,\n",
    "        preprocessor=preprocess_text\n",
    "    )\n",
    "    vectorizer.fit(df[\"text\"])\n",
    "    \n",
    "    with open(\"./vocab.pkl\", \"wb\") as file:\n",
    "        pickle.dump(vectorizer, file)\n",
    "else:\n",
    "    with open(\"./vocab.pkl\", \"rb\") as file:\n",
    "        vectorizer = pickle.load(file)"
   ],
   "id": "3a402fe0fe4f81c9",
   "outputs": [],
   "execution_count": 7
  },
  {
   "metadata": {
    "ExecuteTime": {
     "end_time": "2024-11-24T04:30:14.657723Z",
     "start_time": "2024-11-24T04:30:14.651827Z"
    }
   },
   "cell_type": "code",
   "source": "vectorizer.vocabulary_[\"sex\"]",
   "id": "2ed4a5bcfb75ff3c",
   "outputs": [
    {
     "data": {
      "text/plain": [
       "np.int64(7864)"
      ]
     },
     "execution_count": 8,
     "metadata": {},
     "output_type": "execute_result"
    }
   ],
   "execution_count": 8
  },
  {
   "metadata": {
    "ExecuteTime": {
     "end_time": "2024-11-24T04:31:29.119721Z",
     "start_time": "2024-11-24T04:30:14.659731Z"
    }
   },
   "cell_type": "code",
   "source": [
    "if fresh_start:\n",
    "    ds = EmailDataset(df, vectorizer)\n",
    "    with open(\"./train_data.pkl\", \"wb\") as file:\n",
    "        pickle.dump(ds, file)\n",
    "else:\n",
    "    with open(\"./train_data.pkl\", \"rb\") as file:\n",
    "        ds = pickle.load(file)"
   ],
   "id": "2a9f45a2b4706229",
   "outputs": [],
   "execution_count": 9
  },
  {
   "metadata": {
    "ExecuteTime": {
     "end_time": "2024-11-24T04:31:34.419996Z",
     "start_time": "2024-11-24T04:31:29.255626Z"
    }
   },
   "cell_type": "code",
   "source": "train_ds, valid_ds, test_ds = random_split(ds, [train_factor, valid_factor, test_factor])",
   "id": "dc1c960d5f6a586",
   "outputs": [],
   "execution_count": 10
  },
  {
   "metadata": {
    "ExecuteTime": {
     "end_time": "2024-11-24T04:31:34.797674Z",
     "start_time": "2024-11-24T04:31:34.480002Z"
    }
   },
   "cell_type": "code",
   "source": [
    "# Dataloaders\n",
    "train_dl = DataLoader(train_ds, batch_size=batch_size, shuffle=True)\n",
    "valid_dl = DataLoader(valid_ds, batch_size=batch_size)\n",
    "test_dl = DataLoader(test_ds, batch_size=batch_size, shuffle=True)"
   ],
   "id": "5effb713c3e89d3a",
   "outputs": [],
   "execution_count": 11
  },
  {
   "metadata": {},
   "cell_type": "markdown",
   "source": "### Model and training loop definition",
   "id": "7f731573cd561bb7"
  },
  {
   "metadata": {
    "ExecuteTime": {
     "end_time": "2024-11-24T04:31:34.901678Z",
     "start_time": "2024-11-24T04:31:34.833808Z"
    }
   },
   "cell_type": "code",
   "source": [
    "# Function to assess accuracy of the model\n",
    "@torch.no_grad\n",
    "def accuracy(predictions: tensor, actuals: tensor) -> float:\n",
    "    _, preds =torch.max(predictions, 1)\n",
    "    accuracy = torch.sum(preds == actuals.view(-1))/predictions.shape[0]\n",
    "    return accuracy.item()"
   ],
   "id": "542adc1566ec9b84",
   "outputs": [],
   "execution_count": 12
  },
  {
   "metadata": {
    "ExecuteTime": {
     "end_time": "2024-11-24T04:31:34.992078Z",
     "start_time": "2024-11-24T04:31:34.903845Z"
    }
   },
   "cell_type": "code",
   "source": [
    "# Model\n",
    "class PhishingDetectorModel(nn.Module):\n",
    "    def __init__(self, input_size: int, hidden_size: int, output_size: int):\n",
    "        super().__init__()\n",
    "        self.input_size = input_size\n",
    "        self.hidden_size = hidden_size\n",
    "        self.output_size = output_size\n",
    "        self.layers = nn.ModuleList([\n",
    "            nn.Linear(input_size, hidden_size),\n",
    "            nn.ReLU(),\n",
    "            nn.Linear(hidden_size, hidden_size_2),\n",
    "            nn.ReLU(),\n",
    "            nn.Linear(hidden_size_2, output_size)\n",
    "        ])\n",
    "        \n",
    "    def forward(self, x):\n",
    "        for layer in self.layers:\n",
    "            x = layer(x)\n",
    "        return x"
   ],
   "id": "534e053ca3e64ee8",
   "outputs": [],
   "execution_count": 13
  },
  {
   "metadata": {
    "ExecuteTime": {
     "end_time": "2024-11-24T04:31:51.022240Z",
     "start_time": "2024-11-24T04:31:35.017084Z"
    }
   },
   "cell_type": "code",
   "source": [
    "model = PhishingDetectorModel(\n",
    "    input_size=MAX_LEN,\n",
    "    hidden_size=hidden_size, \n",
    "    output_size=2\n",
    ").to(device)\n",
    "optimizer = optim.Adam(model.parameters(), lr=learning_rate, weight_decay=decay_rate)\n",
    "class_weights = torch.tensor([0.6, 0.4]).to(device)\n",
    "loss_function = nn.CrossEntropyLoss()"
   ],
   "id": "6817241f1c7c571",
   "outputs": [],
   "execution_count": 14
  },
  {
   "metadata": {
    "ExecuteTime": {
     "end_time": "2024-11-24T04:31:51.043562Z",
     "start_time": "2024-11-24T04:31:51.029259Z"
    }
   },
   "cell_type": "code",
   "source": [
    "# Training loop\n",
    "def fit(epochs, model, train_dl, valid_dl, loss_function, optimizer, t_losses, v_losses, t_accuracies, v_accuracies):\n",
    "    for epoch in range(epochs):\n",
    "        model.train()\n",
    "        total_loss, total_acc, count = 0., 0., 0.\n",
    "        for x_batch, y_batch in train_dl:\n",
    "            optimizer.zero_grad()\n",
    "            predictions = model(x_batch)\n",
    "            loss = loss_function(predictions, y_batch.view(-1))\n",
    "            batch_len = len(x_batch)\n",
    "            count += batch_len\n",
    "            total_loss += loss.item() * batch_len\n",
    "            acc = accuracy(predictions, y_batch.view(-1))\n",
    "            total_acc += acc * batch_len\n",
    "            loss.backward()\n",
    "            optimizer.step()\n",
    "        t_losses.append(total_loss / count)\n",
    "        t_accuracies.append(total_acc / count)\n",
    "        \n",
    "        model.eval()\n",
    "        with torch.no_grad():\n",
    "            total_loss, total_acc, count = 0., 0., 0.\n",
    "            for x_batch, y_batch in valid_dl:\n",
    "                predictions = model(x_batch)\n",
    "                loss = loss_function(predictions, y_batch.view(-1))\n",
    "                batch_len = len(x_batch)\n",
    "                count += batch_len\n",
    "                total_loss += loss.item() * batch_len\n",
    "                acc = accuracy(predictions, y_batch.view(-1))\n",
    "                total_acc += acc * batch_len\n",
    "            v_losses.append(total_loss / count)\n",
    "            v_accuracies.append(total_acc / count)\n",
    "        \n",
    "        print(f\"Epoch: {epoch}, Loss: {total_loss / count}, Accuracy: {total_acc / count}\")"
   ],
   "id": "5da03359ffe66a78",
   "outputs": [],
   "execution_count": 15
  },
  {
   "metadata": {
    "ExecuteTime": {
     "end_time": "2024-11-24T04:35:52.885125Z",
     "start_time": "2024-11-24T04:31:51.044568Z"
    }
   },
   "cell_type": "code",
   "source": [
    "train_losses, valid_losses = [], []\n",
    "train_accuracies, valid_accuracies = [], []\n",
    "\n",
    "if train_model:\n",
    "    fit(\n",
    "        epochs=epochs,\n",
    "        model=model,\n",
    "        loss_function=loss_function,\n",
    "        optimizer=optimizer,\n",
    "        train_dl=train_dl,\n",
    "        valid_dl=valid_dl,\n",
    "        t_losses=train_losses,  \n",
    "        v_losses=valid_losses,\n",
    "        t_accuracies=train_accuracies,\n",
    "        v_accuracies=valid_accuracies,\n",
    "    )\n",
    "else:\n",
    "    with open(\"./model.pkl\", \"rb\") as file:\n",
    "        model = pickle.load(file)"
   ],
   "id": "d61efdc3bccd05f2",
   "outputs": [
    {
     "name": "stdout",
     "output_type": "stream",
     "text": [
      "Epoch: 0, Loss: 0.16548877189152492, Accuracy: 0.9448663373020263\n",
      "Epoch: 1, Loss: 0.190013861849526, Accuracy: 0.9406776772230666\n",
      "Epoch: 2, Loss: 0.13281406266013787, Accuracy: 0.9587604292811597\n",
      "Epoch: 3, Loss: 0.1141931615862472, Accuracy: 0.9632215222873133\n",
      "Epoch: 4, Loss: 0.10335015733725529, Accuracy: 0.9672058567204306\n",
      "Epoch: 5, Loss: 0.09560868537306237, Accuracy: 0.9689766728449737\n",
      "Epoch: 6, Loss: 0.10477745008898942, Accuracy: 0.971224246596673\n",
      "Epoch: 7, Loss: 0.09702884933037347, Accuracy: 0.9704410007311338\n",
      "Epoch: 8, Loss: 0.10246960703171276, Accuracy: 0.9713604634449142\n",
      "Epoch: 9, Loss: 0.08817952520322012, Accuracy: 0.9718031664428893\n",
      "Epoch: 10, Loss: 0.10382899188841098, Accuracy: 0.9688404558647964\n",
      "Epoch: 11, Loss: 0.08901164117453961, Accuracy: 0.9725523585581443\n",
      "Epoch: 12, Loss: 0.08682075217911724, Accuracy: 0.9743572285425799\n",
      "Epoch: 13, Loss: 0.08968050349703563, Accuracy: 0.9725523585581443\n",
      "Epoch: 14, Loss: 0.09188349671559096, Accuracy: 0.9734718197333474\n"
     ]
    }
   ],
   "execution_count": 16
  },
  {
   "metadata": {
    "ExecuteTime": {
     "end_time": "2024-11-24T04:35:53.124045Z",
     "start_time": "2024-11-24T04:35:52.886134Z"
    }
   },
   "cell_type": "code",
   "source": [
    "# Save model\n",
    "if train_model:\n",
    "    model.cpu()\n",
    "    with open(\"./model.pkl\", \"wb\") as file:\n",
    "        pickle.dump(model, file)"
   ],
   "id": "3804edd60afe617b",
   "outputs": [],
   "execution_count": 17
  },
  {
   "metadata": {},
   "cell_type": "markdown",
   "source": "### Data vizualization",
   "id": "e4f88bebf36cc895"
  },
  {
   "metadata": {
    "ExecuteTime": {
     "end_time": "2024-11-24T04:35:54.040012Z",
     "start_time": "2024-11-24T04:35:53.127080Z"
    }
   },
   "cell_type": "code",
   "source": [
    "# Accuracies and losses\n",
    "fig, ax = plt.subplots(nrows=1, ncols=2, figsize=(15, 6))\n",
    "\n",
    "ax[0].plot(train_losses, \"r\", label=\"Train Loss\")\n",
    "ax[0].plot(valid_losses, \"bp\", label=\"Valid Loss\")\n",
    "ax[0].set_title(\"Loss over epochs\")\n",
    "ax[0].set_xlabel(\"Epoch\")\n",
    "ax[0].legend()\n",
    "ax[0].grid()\n",
    "ax[0].set_ylabel(\"Loss\")\n",
    "\n",
    "ax[1].plot(train_accuracies, \"r\", label=\"Train Accuracy\")\n",
    "ax[1].plot(valid_accuracies, \"bp\", label=\"Valid Accuracy\")\n",
    "ax[1].set_title(\"Accuracy over epochs\")\n",
    "ax[1].set_xlabel(\"Epoch\")\n",
    "ax[1].legend()\n",
    "ax[1].grid()\n",
    "ax[1].set_ylabel(\"Accuracy\")\n",
    "\n",
    "plt.tight_layout()\n",
    "plt.show()"
   ],
   "id": "56649b5ed502f53f",
   "outputs": [
    {
     "data": {
      "text/plain": [
       "<Figure size 1500x600 with 2 Axes>"
      ],
      "image/png": "[encoded data removed]"
     },
     "metadata": {},
     "output_type": "display_data"
    }
   ],
   "execution_count": 18
  },
  {
   "metadata": {},
   "cell_type": "markdown",
   "source": "### Interface to call the model prediction",
   "id": "6b75edcac07c1732"
  },
  {
   "metadata": {
    "ExecuteTime": {
     "end_time": "2024-11-24T04:35:54.048456Z",
     "start_time": "2024-11-24T04:35:54.041045Z"
    }
   },
   "cell_type": "code",
   "source": [
    "def predict_email(email: str, model, vectorizer, device, top_n=5) -> dict:\n",
    "    model.eval()\n",
    "    time_before = time.time()\n",
    "\n",
    "    # Vectorizing and transforming mail to a matrix\n",
    "    email_csrmatrix = vectorizer.transform([email])\n",
    "    email_coomatrix = email_csrmatrix.tocoo()\n",
    "    indices = tensor(np.array([email_coomatrix.row, email_coomatrix.col])).cpu()\n",
    "    values = tensor(email_coomatrix.data, dtype=torch.float32).cpu()\n",
    "    email_tensor = torch.sparse_coo_tensor(indices, values, torch.Size(email_coomatrix.shape)).to_dense().cpu()\n",
    "\n",
    "    with torch.no_grad():\n",
    "        # Predicting and selecting important words\n",
    "        outputs = model(email_tensor)\n",
    "        _, prediction = torch.max(outputs, 1)\n",
    "\n",
    "        first_layer_weights = model.layers[0].weight.data.cpu().numpy()\n",
    "        suspicious_weights = first_layer_weights[1]\n",
    "\n",
    "        word_importance = email_tensor[0].cpu() * suspicious_weights\n",
    "        important_words_indices = np.argsort(word_importance)[-top_n:]\n",
    "\n",
    "        important_words = [vectorizer.get_feature_names_out()[i] for i in important_words_indices]\n",
    "        important_scores = [word_importance[i] for i in important_words_indices]\n",
    "\n",
    "        important_scores = tensor(important_scores).softmax(dim=0)\n",
    "        important_scores = [score * 100 for score in important_scores]\n",
    "\n",
    "    time_after = time.time()\n",
    "    time_taken = time_after - time_before\n",
    "\n",
    "    confidences = torch.softmax(outputs, dim=1).cpu().numpy()\n",
    "    formatted_output = {\n",
    "        \"is_suspicious\": prediction.item(),\n",
    "        \"confidence\": float(confidences.max()) * 100,\n",
    "        \"important_words\": list(zip(important_words, important_scores)),\n",
    "        \"time_taken\": time_taken,\n",
    "    }\n",
    "    \n",
    "    return formatted_output"
   ],
   "id": "652b14be9b9bbb77",
   "outputs": [],
   "execution_count": 19
  },
  {
   "metadata": {
    "ExecuteTime": {
     "end_time": "2024-11-24T04:35:55.212166Z",
     "start_time": "2024-11-24T04:35:54.049492Z"
    }
   },
   "cell_type": "code",
   "source": [
    "sus_mail = \"\"\"Dear Customer,\n",
    "\n",
    "To ensure the continued security of your account, we need you to update your account details. Please verify your information by October 5th, 2024 to avoid any disruption in service.\n",
    "\n",
    "Click here to update your account:\n",
    "Update Account\n",
    "\n",
    "Thank you for helping us keep your account safe.\n",
    "\n",
    "Best regards,\n",
    "Customer Support\n",
    "[Company Name]\"\"\"\n",
    "\n",
    "ok_mail = \"\"\"DEAR ALL\n",
    "\n",
    "\n",
    "\n",
    "TO VIEW THE ANSWER SCRIPTS AND TO KNOW THE GRADES OF OS FINAL EXAM, YOU CAN VISIT MY OFFICE ON TUESDAY, 26TH DEC. 2023 FROM 10AM TO 1.30PM.\n",
    "\n",
    "PLEASE ADHERE STRICTLY TO THE ABOVE SPECIFIED SCHEDULE.\n",
    "\n",
    "\n",
    "\n",
    "With best regards\n",
    "\n",
    "DR A. R. NASEER, Ph.D(IITD), M.Tech(NITK), SMIEEE, LMISTE, MIAENG ,MVSI, MCSI \n",
    "PROFESSOR, SCHOOL OF GLOBAL CONVERGENCE STUDIES(SGCS)\n",
    "\n",
    "INHA UNIVERSITY, INCHEON, SOUTH KOREA\n",
    "\n",
    "HEAD & PROFESSOR OF COMPUTER SCIENCE & ENGINEERING\n",
    "\n",
    "SCHOOL OF COMPUTER AND INFORMATION ENGINEERING (SOCIE)\n",
    "INHA UNIVERSITY TASHKENT, UZBEKISTAN​\"\"\"\n",
    " \n",
    "answer = predict_email(sus_mail, model, vectorizer, device, top_n=10)\n",
    "\n",
    "print(answer)"
   ],
   "id": "ce36f4455ba6d4e2",
   "outputs": [
    {
     "name": "stderr",
     "output_type": "stream",
     "text": [
      "C:\\Users\\sqdar\\AppData\\Local\\Temp\\ipykernel_13948\\3882722996.py:20: DeprecationWarning: __array_wrap__ must accept context and return_scalar arguments (positionally) in the future. (Deprecated NumPy 2.0)\n",
      "  word_importance = email_tensor[0].cpu() * suspicious_weights\n"
     ]
    },
    {
     "name": "stdout",
     "output_type": "stream",
     "text": [
      "{'is_suspicious': 1, 'confidence': 95.26938199996948, 'important_words': [('th', tensor(9.9783)), ('us', tensor(9.9809)), ('custom', tensor(9.9829)), ('regard', tensor(9.9847)), ('help', tensor(9.9888)), ('account', tensor(10.0025)), ('need', tensor(10.0049)), ('updat', tensor(10.0136)), ('thank', tensor(10.0287)), ('pleas', tensor(10.0347))], 'time_taken': 0.8060057163238525}\n"
     ]
    }
   ],
   "execution_count": 20
  },
  {
   "metadata": {
    "ExecuteTime": {
     "end_time": "2024-11-24T04:35:59.984265Z",
     "start_time": "2024-11-24T04:35:55.216188Z"
    }
   },
   "cell_type": "code",
   "source": [
    "# Model metrics evaluation\n",
    "model.to(device) \n",
    "model.eval()\n",
    "\n",
    "y_true = []\n",
    "y_preds = []\n",
    "\n",
    "total_loss, total_acc, count = 0., 0., 0.\n",
    "with torch.no_grad():\n",
    "    for x_batch, y_batch in test_dl:\n",
    "        predictions = model(x_batch)\n",
    "        loss = loss_function(predictions, y_batch.view(-1))\n",
    "\n",
    "        count += len(x_batch)\n",
    "        total_loss += loss.item()\n",
    "        acc = accuracy(predictions, y_batch)\n",
    "        total_acc += acc * len(x_batch)\n",
    "        \n",
    "        y_preds.extend(predictions.argmax(dim=1).cpu().numpy())\n",
    "        y_true.extend(y_batch.view(-1).cpu().numpy()) \n",
    "        \n",
    "print(f\"Loss: {total_loss / count}, Accuracy: {total_acc / count}\")\n",
    "\n",
    "# Confusion Matrix and Classification Report\n",
    "confusion_matrix = confusion_matrix(y_true, y_preds)\n",
    "class_names = [\"Legitimate\", \"Suspicious\"]\n",
    "\n",
    "plt.figure(figsize=(8, 8))\n",
    "sns.heatmap(confusion_matrix, annot=True, fmt='d', cmap='Greens', xticklabels=class_names, yticklabels=class_names)\n",
    "plt.xlabel('Predicted Labels')\n",
    "plt.ylabel('True Labels')\n",
    "plt.title('Confusion Matrix')\n",
    "plt.show()\n",
    "\n",
    "print(\"\\nClassification Report:\")\n",
    "print(classification_report(y_true, y_preds))\n"
   ],
   "id": "70b6a2b69b9bf691",
   "outputs": [
    {
     "name": "stdout",
     "output_type": "stream",
     "text": [
      "Loss: 3.91681599301971e-05, Accuracy: 0.9741860775008316\n"
     ]
    },
    {
     "data": {
      "text/plain": [
       "<Figure size 800x800 with 2 Axes>"
      ],
      "image/png": "[encoded data removed]"
     },
     "metadata": {},
     "output_type": "display_data"
    },
    {
     "name": "stdout",
     "output_type": "stream",
     "text": [
      "\n",
      "Classification Report:\n",
      "              precision    recall  f1-score   support\n",
      "\n",
      "           0       0.98      0.97      0.97     14614\n",
      "           1       0.97      0.98      0.97     14750\n",
      "\n",
      "    accuracy                           0.97     29364\n",
      "   macro avg       0.97      0.97      0.97     29364\n",
      "weighted avg       0.97      0.97      0.97     29364\n",
      "\n"
     ]
    },
    {
     "data": {
      "text/plain": [
       "<Figure size 640x480 with 0 Axes>"
      ]
     },
     "metadata": {},
     "output_type": "display_data"
    }
   ],
   "execution_count": 21
  }
 ],
 "metadata": {
  "kernelspec": {
   "display_name": "Python 3",
   "language": "python",
   "name": "python3"
  },
  "language_info": {
   "codemirror_mode": {
    "name": "ipython",
    "version": 2
   },
   "file_extension": ".py",
   "mimetype": "text/x-python",
   "name": "python",
   "nbconvert_exporter": "python",
   "pygments_lexer": "ipython2",
   "version": "2.7.6"
  }
 },
 "nbformat": 4,
 "nbformat_minor": 5
}
