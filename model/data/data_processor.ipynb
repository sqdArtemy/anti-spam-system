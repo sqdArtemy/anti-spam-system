{
 "cells": [
  {
   "cell_type": "code",
   "id": "initial_id",
   "metadata": {
    "collapsed": true,
    "ExecuteTime": {
     "end_time": "2024-09-28T17:35:50.790777Z",
     "start_time": "2024-09-28T17:35:50.295324Z"
    }
   },
   "source": [
    "import os\n",
    "import zipfile\n",
    "import pandas as pd"
   ],
   "outputs": [],
   "execution_count": 1
  },
  {
   "metadata": {
    "ExecuteTime": {
     "end_time": "2024-09-29T05:55:50.278686Z",
     "start_time": "2024-09-29T05:55:50.254959Z"
    }
   },
   "cell_type": "code",
   "source": [
    "RAW_DATASETS = [\n",
    "    \"naserabdullahalam/phishing-email-dataset\",\n",
    "    \"ahmedhassansaqr/email-spam-detection-v2\",\n",
    "    \"subhajournal/phishingemails\",\n",
    "    \"purusinghvi/email-spam-classification-dataset\"\n",
    "]"
   ],
   "id": "6578548362c68ebd",
   "outputs": [],
   "execution_count": 27
  },
  {
   "metadata": {
    "ExecuteTime": {
     "end_time": "2024-09-29T05:55:52.255980Z",
     "start_time": "2024-09-29T05:55:52.233002Z"
    }
   },
   "cell_type": "code",
   "source": [
    "# Download data from kaggle\n",
    "def kaggle_downloader(dataset_name: str, download_folder: str) -> str:\n",
    "    os.chdir(download_folder)\n",
    "    os.system(f\"kaggle datasets download -d {dataset_name}\")\n",
    "    os.chdir(\"..\")\n",
    "    \n",
    "    file_path = f\"{download_folder}/{dataset_name.split('/')[-1]}.zip\"\n",
    "    return file_path\n",
    "    \n",
    "def unzipper(file_name: str, unzip_folder: str) -> None:\n",
    "    with zipfile.ZipFile(file_name, \"r\") as zip_file:\n",
    "        zip_file.extractall(unzip_folder)"
   ],
   "id": "7cb42efc7c20fad7",
   "outputs": [],
   "execution_count": 28
  },
  {
   "metadata": {
    "ExecuteTime": {
     "end_time": "2024-09-29T05:55:53.775561Z",
     "start_time": "2024-09-29T05:55:53.771208Z"
    }
   },
   "cell_type": "code",
   "source": [
    "downloads_folder = \"./downloads\"\n",
    "csvs_folder = \"./csvs\"\n",
    "os.makedirs(downloads_folder, exist_ok=True)\n",
    "os.makedirs(csvs_folder, exist_ok=True)"
   ],
   "id": "d90eb47032bbaa6f",
   "outputs": [],
   "execution_count": 29
  },
  {
   "metadata": {
    "ExecuteTime": {
     "end_time": "2024-09-29T05:55:55.731390Z",
     "start_time": "2024-09-29T05:55:54.547654Z"
    }
   },
   "cell_type": "code",
   "source": [
    "for dataset_name in RAW_DATASETS:\n",
    "    dataset_path = kaggle_downloader(dataset_name, downloads_folder)\n",
    "    unzipper(dataset_path, csvs_folder)"
   ],
   "id": "637f3997c7f029e6",
   "outputs": [
    {
     "ename": "FileNotFoundError",
     "evalue": "[Errno 2] No such file or directory: './downloads/phishing-email-dataset.zip'",
     "output_type": "error",
     "traceback": [
      "\u001B[1;31m---------------------------------------------------------------------------\u001B[0m",
      "\u001B[1;31mFileNotFoundError\u001B[0m                         Traceback (most recent call last)",
      "Cell \u001B[1;32mIn[30], line 3\u001B[0m\n\u001B[0;32m      1\u001B[0m \u001B[38;5;28;01mfor\u001B[39;00m dataset_name \u001B[38;5;129;01min\u001B[39;00m RAW_DATASETS:\n\u001B[0;32m      2\u001B[0m     dataset_path \u001B[38;5;241m=\u001B[39m kaggle_downloader(dataset_name, downloads_folder)\n\u001B[1;32m----> 3\u001B[0m     \u001B[43munzipper\u001B[49m\u001B[43m(\u001B[49m\u001B[43mdataset_path\u001B[49m\u001B[43m,\u001B[49m\u001B[43m \u001B[49m\u001B[43mcsvs_folder\u001B[49m\u001B[43m)\u001B[49m\n",
      "Cell \u001B[1;32mIn[28], line 11\u001B[0m, in \u001B[0;36munzipper\u001B[1;34m(file_name, unzip_folder)\u001B[0m\n\u001B[0;32m     10\u001B[0m \u001B[38;5;28;01mdef\u001B[39;00m \u001B[38;5;21munzipper\u001B[39m(file_name: \u001B[38;5;28mstr\u001B[39m, unzip_folder: \u001B[38;5;28mstr\u001B[39m) \u001B[38;5;241m-\u001B[39m\u001B[38;5;241m>\u001B[39m \u001B[38;5;28;01mNone\u001B[39;00m:\n\u001B[1;32m---> 11\u001B[0m     \u001B[38;5;28;01mwith\u001B[39;00m \u001B[43mzipfile\u001B[49m\u001B[38;5;241;43m.\u001B[39;49m\u001B[43mZipFile\u001B[49m\u001B[43m(\u001B[49m\u001B[43mfile_name\u001B[49m\u001B[43m,\u001B[49m\u001B[43m \u001B[49m\u001B[38;5;124;43m\"\u001B[39;49m\u001B[38;5;124;43mr\u001B[39;49m\u001B[38;5;124;43m\"\u001B[39;49m\u001B[43m)\u001B[49m \u001B[38;5;28;01mas\u001B[39;00m zip_file:\n\u001B[0;32m     12\u001B[0m         zip_file\u001B[38;5;241m.\u001B[39mextractall(unzip_folder)\n",
      "File \u001B[1;32m~\\miniconda3\\Lib\\zipfile\\__init__.py:1331\u001B[0m, in \u001B[0;36mZipFile.__init__\u001B[1;34m(self, file, mode, compression, allowZip64, compresslevel, strict_timestamps, metadata_encoding)\u001B[0m\n\u001B[0;32m   1329\u001B[0m \u001B[38;5;28;01mwhile\u001B[39;00m \u001B[38;5;28;01mTrue\u001B[39;00m:\n\u001B[0;32m   1330\u001B[0m     \u001B[38;5;28;01mtry\u001B[39;00m:\n\u001B[1;32m-> 1331\u001B[0m         \u001B[38;5;28mself\u001B[39m\u001B[38;5;241m.\u001B[39mfp \u001B[38;5;241m=\u001B[39m \u001B[43mio\u001B[49m\u001B[38;5;241;43m.\u001B[39;49m\u001B[43mopen\u001B[49m\u001B[43m(\u001B[49m\u001B[43mfile\u001B[49m\u001B[43m,\u001B[49m\u001B[43m \u001B[49m\u001B[43mfilemode\u001B[49m\u001B[43m)\u001B[49m\n\u001B[0;32m   1332\u001B[0m     \u001B[38;5;28;01mexcept\u001B[39;00m \u001B[38;5;167;01mOSError\u001B[39;00m:\n\u001B[0;32m   1333\u001B[0m         \u001B[38;5;28;01mif\u001B[39;00m filemode \u001B[38;5;129;01min\u001B[39;00m modeDict:\n",
      "\u001B[1;31mFileNotFoundError\u001B[0m: [Errno 2] No such file or directory: './downloads/phishing-email-dataset.zip'"
     ]
    }
   ],
   "execution_count": 30
  },
  {
   "metadata": {
    "ExecuteTime": {
     "end_time": "2024-09-29T05:56:03.457779Z",
     "start_time": "2024-09-29T05:55:57.153904Z"
    }
   },
   "cell_type": "code",
   "source": [
    "# Uploading data from CSVs to dataframes\n",
    "df_1 = pd.read_csv(f\"{csvs_folder}/CEAS_08.csv\")\n",
    "df_2 = pd.read_csv(f\"{csvs_folder}/smsspamcollection.tsv\", delimiter=\"\\t\")\n",
    "df_3 = pd.read_csv(f\"{csvs_folder}/combined_data.csv\")\n",
    "df_4 = pd.read_csv(f\"{csvs_folder}/Phishing_Email.csv\")\n",
    "\n",
    "df_1.shape, df_2.shape, df_3.shape, df_4.shape"
   ],
   "id": "ea700fb96922926b",
   "outputs": [
    {
     "data": {
      "text/plain": [
       "((39154, 7), (5572, 4), (83448, 2), (18650, 3))"
      ]
     },
     "execution_count": 31,
     "metadata": {},
     "output_type": "execute_result"
    }
   ],
   "execution_count": 31
  },
  {
   "metadata": {
    "ExecuteTime": {
     "end_time": "2024-09-29T05:56:04.162513Z",
     "start_time": "2024-09-29T05:56:04.153782Z"
    }
   },
   "cell_type": "code",
   "source": "df_1.head()",
   "id": "e9f64d73c877b336",
   "outputs": [
    {
     "data": {
      "text/plain": [
       "                                              sender  \\\n",
       "0                   Young Esposito <Young@iworld.de>   \n",
       "1                       Mok <ipline's1983@icable.ph>   \n",
       "2  Daily Top 10 <Karmandeep-opengevl@universalnet...   \n",
       "3                 Michael Parker <ivqrnai@pobox.com>   \n",
       "4  Gretchen Suggs <externalsep1@loanofficertool.com>   \n",
       "\n",
       "                                         receiver  \\\n",
       "0                     user4@gvc.ceas-challenge.cc   \n",
       "1                   user2.2@gvc.ceas-challenge.cc   \n",
       "2                   user2.9@gvc.ceas-challenge.cc   \n",
       "3  SpamAssassin Dev <xrh@spamassassin.apache.org>   \n",
       "4                   user2.2@gvc.ceas-challenge.cc   \n",
       "\n",
       "                              date  \\\n",
       "0  Tue, 05 Aug 2008 16:31:02 -0700   \n",
       "1  Tue, 05 Aug 2008 18:31:03 -0500   \n",
       "2  Tue, 05 Aug 2008 20:28:00 -1200   \n",
       "3  Tue, 05 Aug 2008 17:31:20 -0600   \n",
       "4  Tue, 05 Aug 2008 19:31:21 -0400   \n",
       "\n",
       "                                             subject  \\\n",
       "0                          Never agree to be a loser   \n",
       "1                             Befriend Jenna Jameson   \n",
       "2                               CNN.com Daily Top 10   \n",
       "3  Re: svn commit: r619753 - in /spamassassin/tru...   \n",
       "4                         SpecialPricesPharmMoreinfo   \n",
       "\n",
       "                                                body  label  urls  \n",
       "0  Buck up, your troubles caused by small dimensi...      1     1  \n",
       "1  \\nUpgrade your sex and pleasures with these te...      1     1  \n",
       "2  >+=+=+=+=+=+=+=+=+=+=+=+=+=+=+=+=+=+=+=+=+=+=+...      1     1  \n",
       "3  Would anyone object to removing .so from this ...      0     1  \n",
       "4  \\nWelcomeFastShippingCustomerSupport\\nhttp://7...      1     1  "
      ],
      "text/html": [
       "<div>\n",
       "<style scoped>\n",
       "    .dataframe tbody tr th:only-of-type {\n",
       "        vertical-align: middle;\n",
       "    }\n",
       "\n",
       "    .dataframe tbody tr th {\n",
       "        vertical-align: top;\n",
       "    }\n",
       "\n",
       "    .dataframe thead th {\n",
       "        text-align: right;\n",
       "    }\n",
       "</style>\n",
       "<table border=\"1\" class=\"dataframe\">\n",
       "  <thead>\n",
       "    <tr style=\"text-align: right;\">\n",
       "      <th></th>\n",
       "      <th>sender</th>\n",
       "      <th>receiver</th>\n",
       "      <th>date</th>\n",
       "      <th>subject</th>\n",
       "      <th>body</th>\n",
       "      <th>label</th>\n",
       "      <th>urls</th>\n",
       "    </tr>\n",
       "  </thead>\n",
       "  <tbody>\n",
       "    <tr>\n",
       "      <th>0</th>\n",
       "      <td>Young Esposito &lt;Young@iworld.de&gt;</td>\n",
       "      <td>user4@gvc.ceas-challenge.cc</td>\n",
       "      <td>Tue, 05 Aug 2008 16:31:02 -0700</td>\n",
       "      <td>Never agree to be a loser</td>\n",
       "      <td>Buck up, your troubles caused by small dimensi...</td>\n",
       "      <td>1</td>\n",
       "      <td>1</td>\n",
       "    </tr>\n",
       "    <tr>\n",
       "      <th>1</th>\n",
       "      <td>Mok &lt;ipline's1983@icable.ph&gt;</td>\n",
       "      <td>user2.2@gvc.ceas-challenge.cc</td>\n",
       "      <td>Tue, 05 Aug 2008 18:31:03 -0500</td>\n",
       "      <td>Befriend Jenna Jameson</td>\n",
       "      <td>\\nUpgrade your sex and pleasures with these te...</td>\n",
       "      <td>1</td>\n",
       "      <td>1</td>\n",
       "    </tr>\n",
       "    <tr>\n",
       "      <th>2</th>\n",
       "      <td>Daily Top 10 &lt;Karmandeep-opengevl@universalnet...</td>\n",
       "      <td>user2.9@gvc.ceas-challenge.cc</td>\n",
       "      <td>Tue, 05 Aug 2008 20:28:00 -1200</td>\n",
       "      <td>CNN.com Daily Top 10</td>\n",
       "      <td>&gt;+=+=+=+=+=+=+=+=+=+=+=+=+=+=+=+=+=+=+=+=+=+=+...</td>\n",
       "      <td>1</td>\n",
       "      <td>1</td>\n",
       "    </tr>\n",
       "    <tr>\n",
       "      <th>3</th>\n",
       "      <td>Michael Parker &lt;ivqrnai@pobox.com&gt;</td>\n",
       "      <td>SpamAssassin Dev &lt;xrh@spamassassin.apache.org&gt;</td>\n",
       "      <td>Tue, 05 Aug 2008 17:31:20 -0600</td>\n",
       "      <td>Re: svn commit: r619753 - in /spamassassin/tru...</td>\n",
       "      <td>Would anyone object to removing .so from this ...</td>\n",
       "      <td>0</td>\n",
       "      <td>1</td>\n",
       "    </tr>\n",
       "    <tr>\n",
       "      <th>4</th>\n",
       "      <td>Gretchen Suggs &lt;externalsep1@loanofficertool.com&gt;</td>\n",
       "      <td>user2.2@gvc.ceas-challenge.cc</td>\n",
       "      <td>Tue, 05 Aug 2008 19:31:21 -0400</td>\n",
       "      <td>SpecialPricesPharmMoreinfo</td>\n",
       "      <td>\\nWelcomeFastShippingCustomerSupport\\nhttp://7...</td>\n",
       "      <td>1</td>\n",
       "      <td>1</td>\n",
       "    </tr>\n",
       "  </tbody>\n",
       "</table>\n",
       "</div>"
      ]
     },
     "execution_count": 32,
     "metadata": {},
     "output_type": "execute_result"
    }
   ],
   "execution_count": 32
  },
  {
   "metadata": {
    "ExecuteTime": {
     "end_time": "2024-09-29T05:56:05.834541Z",
     "start_time": "2024-09-29T05:56:05.827347Z"
    }
   },
   "cell_type": "code",
   "source": "df_2.head()",
   "id": "453e72af3eb28a49",
   "outputs": [
    {
     "data": {
      "text/plain": [
       "  label                                            message  length  punct\n",
       "0   ham  Go until jurong point, crazy.. Available only ...     111      9\n",
       "1   ham                      Ok lar... Joking wif u oni...      29      6\n",
       "2  spam  Free entry in 2 a wkly comp to win FA Cup fina...     155      6\n",
       "3   ham  U dun say so early hor... U c already then say...      49      6\n",
       "4   ham  Nah I don't think he goes to usf, he lives aro...      61      2"
      ],
      "text/html": [
       "<div>\n",
       "<style scoped>\n",
       "    .dataframe tbody tr th:only-of-type {\n",
       "        vertical-align: middle;\n",
       "    }\n",
       "\n",
       "    .dataframe tbody tr th {\n",
       "        vertical-align: top;\n",
       "    }\n",
       "\n",
       "    .dataframe thead th {\n",
       "        text-align: right;\n",
       "    }\n",
       "</style>\n",
       "<table border=\"1\" class=\"dataframe\">\n",
       "  <thead>\n",
       "    <tr style=\"text-align: right;\">\n",
       "      <th></th>\n",
       "      <th>label</th>\n",
       "      <th>message</th>\n",
       "      <th>length</th>\n",
       "      <th>punct</th>\n",
       "    </tr>\n",
       "  </thead>\n",
       "  <tbody>\n",
       "    <tr>\n",
       "      <th>0</th>\n",
       "      <td>ham</td>\n",
       "      <td>Go until jurong point, crazy.. Available only ...</td>\n",
       "      <td>111</td>\n",
       "      <td>9</td>\n",
       "    </tr>\n",
       "    <tr>\n",
       "      <th>1</th>\n",
       "      <td>ham</td>\n",
       "      <td>Ok lar... Joking wif u oni...</td>\n",
       "      <td>29</td>\n",
       "      <td>6</td>\n",
       "    </tr>\n",
       "    <tr>\n",
       "      <th>2</th>\n",
       "      <td>spam</td>\n",
       "      <td>Free entry in 2 a wkly comp to win FA Cup fina...</td>\n",
       "      <td>155</td>\n",
       "      <td>6</td>\n",
       "    </tr>\n",
       "    <tr>\n",
       "      <th>3</th>\n",
       "      <td>ham</td>\n",
       "      <td>U dun say so early hor... U c already then say...</td>\n",
       "      <td>49</td>\n",
       "      <td>6</td>\n",
       "    </tr>\n",
       "    <tr>\n",
       "      <th>4</th>\n",
       "      <td>ham</td>\n",
       "      <td>Nah I don't think he goes to usf, he lives aro...</td>\n",
       "      <td>61</td>\n",
       "      <td>2</td>\n",
       "    </tr>\n",
       "  </tbody>\n",
       "</table>\n",
       "</div>"
      ]
     },
     "execution_count": 33,
     "metadata": {},
     "output_type": "execute_result"
    }
   ],
   "execution_count": 33
  },
  {
   "metadata": {},
   "cell_type": "code",
   "source": "df_3.head()",
   "id": "2b72ab7c9a877a59",
   "outputs": [],
   "execution_count": null
  },
  {
   "metadata": {},
   "cell_type": "code",
   "source": "df_4.head()",
   "id": "a8eba1a93eb77983",
   "outputs": [],
   "execution_count": null
  },
  {
   "metadata": {
    "ExecuteTime": {
     "end_time": "2024-09-29T05:56:08.248513Z",
     "start_time": "2024-09-29T05:56:08.170277Z"
    }
   },
   "cell_type": "code",
   "source": [
    "# Uniform labels\n",
    "df_2[\"label\"] = df_2[\"label\"].replace({\"spam\": 1, \"ham\": 0}).infer_objects(copy=False)\n",
    "df_4[\"Email Type\"] = df_4[\"Email Type\"].replace({\"Safe Email\": 0, \"Phishing Email\": 1}).infer_objects(copy=False)"
   ],
   "id": "737f98e973287e1b",
   "outputs": [
    {
     "name": "stderr",
     "output_type": "stream",
     "text": [
      "C:\\Users\\sqdar\\AppData\\Local\\Temp\\ipykernel_22404\\3204413216.py:2: FutureWarning: Downcasting behavior in `replace` is deprecated and will be removed in a future version. To retain the old behavior, explicitly call `result.infer_objects(copy=False)`. To opt-in to the future behavior, set `pd.set_option('future.no_silent_downcasting', True)`\n",
      "  df_2[\"label\"] = df_2[\"label\"].replace({\"spam\": 1, \"ham\": 0}).infer_objects(copy=False)\n",
      "C:\\Users\\sqdar\\AppData\\Local\\Temp\\ipykernel_22404\\3204413216.py:3: FutureWarning: Downcasting behavior in `replace` is deprecated and will be removed in a future version. To retain the old behavior, explicitly call `result.infer_objects(copy=False)`. To opt-in to the future behavior, set `pd.set_option('future.no_silent_downcasting', True)`\n",
      "  df_4[\"Email Type\"] = df_4[\"Email Type\"].replace({\"Safe Email\": 0, \"Phishing Email\": 1}).infer_objects(copy=False)\n"
     ]
    }
   ],
   "execution_count": 34
  },
  {
   "metadata": {
    "ExecuteTime": {
     "end_time": "2024-09-29T05:56:10.600948Z",
     "start_time": "2024-09-29T05:56:10.578742Z"
    }
   },
   "cell_type": "code",
   "source": [
    "# Uniform columns\n",
    "df_1 = df_1.drop([\"sender\", \"receiver\", \"date\", \"subject\", \"urls\"], axis=1)\n",
    "df_2 = df_2.drop([\"length\", \"punct\"], axis=1)\n",
    "df_4 = df_4.drop([\"Unnamed: 0\"], axis=1)\n",
    "\n",
    "df_1.rename(columns={\"body\": \"text\"}, inplace=True)\n",
    "df_2.rename(columns={\"message\": \"text\"}, inplace=True)\n",
    "df_4.rename(columns={\"Email Type\": \"label\", \"Email Text\": \"text\"}, inplace=True)"
   ],
   "id": "394d42df6b5b52dd",
   "outputs": [],
   "execution_count": 35
  },
  {
   "metadata": {
    "ExecuteTime": {
     "end_time": "2024-09-29T05:56:16.274979Z",
     "start_time": "2024-09-29T05:56:16.233070Z"
    }
   },
   "cell_type": "code",
   "source": [
    "# Unite datasets\n",
    "df = pd.concat([df_1, df_3, df_2, df_4])\n",
    "df[\"text\"] = df[\"text\"].fillna(\"\")\n",
    "df"
   ],
   "id": "da255992bdd5b5da",
   "outputs": [
    {
     "data": {
      "text/plain": [
       "                                                    text  label\n",
       "0      Buck up, your troubles caused by small dimensi...      1\n",
       "1      \\nUpgrade your sex and pleasures with these te...      1\n",
       "2      >+=+=+=+=+=+=+=+=+=+=+=+=+=+=+=+=+=+=+=+=+=+=+...      1\n",
       "3      Would anyone object to removing .so from this ...      0\n",
       "4      \\nWelcomeFastShippingCustomerSupport\\nhttp://7...      1\n",
       "...                                                  ...    ...\n",
       "18645  date a lonely housewife always wanted to date ...      1\n",
       "18646  request submitted : access request for anita ....      0\n",
       "18647  re : important - prc mtg hi dorn & john , as y...      0\n",
       "18648  press clippings - letter on californian utilit...      0\n",
       "18649                                              empty      1\n",
       "\n",
       "[146824 rows x 2 columns]"
      ],
      "text/html": [
       "<div>\n",
       "<style scoped>\n",
       "    .dataframe tbody tr th:only-of-type {\n",
       "        vertical-align: middle;\n",
       "    }\n",
       "\n",
       "    .dataframe tbody tr th {\n",
       "        vertical-align: top;\n",
       "    }\n",
       "\n",
       "    .dataframe thead th {\n",
       "        text-align: right;\n",
       "    }\n",
       "</style>\n",
       "<table border=\"1\" class=\"dataframe\">\n",
       "  <thead>\n",
       "    <tr style=\"text-align: right;\">\n",
       "      <th></th>\n",
       "      <th>text</th>\n",
       "      <th>label</th>\n",
       "    </tr>\n",
       "  </thead>\n",
       "  <tbody>\n",
       "    <tr>\n",
       "      <th>0</th>\n",
       "      <td>Buck up, your troubles caused by small dimensi...</td>\n",
       "      <td>1</td>\n",
       "    </tr>\n",
       "    <tr>\n",
       "      <th>1</th>\n",
       "      <td>\\nUpgrade your sex and pleasures with these te...</td>\n",
       "      <td>1</td>\n",
       "    </tr>\n",
       "    <tr>\n",
       "      <th>2</th>\n",
       "      <td>&gt;+=+=+=+=+=+=+=+=+=+=+=+=+=+=+=+=+=+=+=+=+=+=+...</td>\n",
       "      <td>1</td>\n",
       "    </tr>\n",
       "    <tr>\n",
       "      <th>3</th>\n",
       "      <td>Would anyone object to removing .so from this ...</td>\n",
       "      <td>0</td>\n",
       "    </tr>\n",
       "    <tr>\n",
       "      <th>4</th>\n",
       "      <td>\\nWelcomeFastShippingCustomerSupport\\nhttp://7...</td>\n",
       "      <td>1</td>\n",
       "    </tr>\n",
       "    <tr>\n",
       "      <th>...</th>\n",
       "      <td>...</td>\n",
       "      <td>...</td>\n",
       "    </tr>\n",
       "    <tr>\n",
       "      <th>18645</th>\n",
       "      <td>date a lonely housewife always wanted to date ...</td>\n",
       "      <td>1</td>\n",
       "    </tr>\n",
       "    <tr>\n",
       "      <th>18646</th>\n",
       "      <td>request submitted : access request for anita ....</td>\n",
       "      <td>0</td>\n",
       "    </tr>\n",
       "    <tr>\n",
       "      <th>18647</th>\n",
       "      <td>re : important - prc mtg hi dorn &amp; john , as y...</td>\n",
       "      <td>0</td>\n",
       "    </tr>\n",
       "    <tr>\n",
       "      <th>18648</th>\n",
       "      <td>press clippings - letter on californian utilit...</td>\n",
       "      <td>0</td>\n",
       "    </tr>\n",
       "    <tr>\n",
       "      <th>18649</th>\n",
       "      <td>empty</td>\n",
       "      <td>1</td>\n",
       "    </tr>\n",
       "  </tbody>\n",
       "</table>\n",
       "<p>146824 rows × 2 columns</p>\n",
       "</div>"
      ]
     },
     "execution_count": 36,
     "metadata": {},
     "output_type": "execute_result"
    }
   ],
   "execution_count": 36
  },
  {
   "metadata": {
    "ExecuteTime": {
     "end_time": "2024-09-29T05:56:19.776011Z",
     "start_time": "2024-09-29T05:56:19.771617Z"
    }
   },
   "cell_type": "code",
   "source": "df.shape",
   "id": "18924324a233b187",
   "outputs": [
    {
     "data": {
      "text/plain": [
       "(146824, 2)"
      ]
     },
     "execution_count": 37,
     "metadata": {},
     "output_type": "execute_result"
    }
   ],
   "execution_count": 37
  },
  {
   "metadata": {
    "ExecuteTime": {
     "end_time": "2024-09-29T05:56:44.154303Z",
     "start_time": "2024-09-29T05:56:44.091170Z"
    }
   },
   "cell_type": "code",
   "source": "df.isnull().sum()",
   "id": "f4945de65ff7a3d",
   "outputs": [
    {
     "data": {
      "text/plain": [
       "text     0\n",
       "label    0\n",
       "dtype: int64"
      ]
     },
     "execution_count": 38,
     "metadata": {},
     "output_type": "execute_result"
    }
   ],
   "execution_count": 38
  },
  {
   "metadata": {
    "ExecuteTime": {
     "end_time": "2024-09-29T05:57:05.593736Z",
     "start_time": "2024-09-29T05:57:00.438266Z"
    }
   },
   "cell_type": "code",
   "source": "df.to_csv(\"data.csv\")",
   "id": "87d2736383dd3e58",
   "outputs": [],
   "execution_count": 39
  }
 ],
 "metadata": {
  "kernelspec": {
   "display_name": "Python 3",
   "language": "python",
   "name": "python3"
  },
  "language_info": {
   "codemirror_mode": {
    "name": "ipython",
    "version": 2
   },
   "file_extension": ".py",
   "mimetype": "text/x-python",
   "name": "python",
   "nbconvert_exporter": "python",
   "pygments_lexer": "ipython2",
   "version": "2.7.6"
  }
 },
 "nbformat": 4,
 "nbformat_minor": 5
}
